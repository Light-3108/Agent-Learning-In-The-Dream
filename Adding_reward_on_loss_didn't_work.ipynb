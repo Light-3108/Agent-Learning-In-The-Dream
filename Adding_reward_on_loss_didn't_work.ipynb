{
  "nbformat": 4,
  "nbformat_minor": 0,
  "metadata": {
    "colab": {
      "provenance": []
    },
    "kernelspec": {
      "name": "python3",
      "display_name": "Python 3"
    },
    "language_info": {
      "name": "python"
    }
  },
  "cells": [
    {
      "cell_type": "code",
      "execution_count": null,
      "metadata": {
        "colab": {
          "base_uri": "https://localhost:8080/",
          "height": 228
        },
        "id": "rK07B8OLWvlM",
        "outputId": "df2f9718-52b8-4758-92e0-e62d26b3bcaa"
      },
      "outputs": [
        {
          "output_type": "stream",
          "name": "stdout",
          "text": [
            "Mounted at /content/drive\n"
          ]
        },
        {
          "output_type": "error",
          "ename": "FileNotFoundError",
          "evalue": "[Errno 2] No such file or directory: '/content/drive/MyDrive/data/car_racing_rollouts_5.pkl'",
          "traceback": [
            "\u001b[0;31m---------------------------------------------------------------------------\u001b[0m",
            "\u001b[0;31mFileNotFoundError\u001b[0m                         Traceback (most recent call last)",
            "\u001b[0;32m<ipython-input-1-022476d58601>\u001b[0m in \u001b[0;36m<cell line: 0>\u001b[0;34m()\u001b[0m\n\u001b[1;32m     14\u001b[0m \u001b[0;31m# Load dataset from Drive\u001b[0m\u001b[0;34m\u001b[0m\u001b[0;34m\u001b[0m\u001b[0m\n\u001b[1;32m     15\u001b[0m \u001b[0mdata_path\u001b[0m \u001b[0;34m=\u001b[0m \u001b[0;34m\"/content/drive/MyDrive/data/car_racing_rollouts_5.pkl\"\u001b[0m\u001b[0;34m\u001b[0m\u001b[0;34m\u001b[0m\u001b[0m\n\u001b[0;32m---> 16\u001b[0;31m \u001b[0;32mwith\u001b[0m \u001b[0mopen\u001b[0m\u001b[0;34m(\u001b[0m\u001b[0mdata_path\u001b[0m\u001b[0;34m,\u001b[0m \u001b[0;34m\"rb\"\u001b[0m\u001b[0;34m)\u001b[0m \u001b[0;32mas\u001b[0m \u001b[0mf\u001b[0m\u001b[0;34m:\u001b[0m\u001b[0;34m\u001b[0m\u001b[0;34m\u001b[0m\u001b[0m\n\u001b[0m\u001b[1;32m     17\u001b[0m   \u001b[0mrollouts\u001b[0m \u001b[0;34m=\u001b[0m \u001b[0mpickle\u001b[0m\u001b[0;34m.\u001b[0m\u001b[0mload\u001b[0m\u001b[0;34m(\u001b[0m\u001b[0mf\u001b[0m\u001b[0;34m)\u001b[0m\u001b[0;34m\u001b[0m\u001b[0;34m\u001b[0m\u001b[0m\n\u001b[1;32m     18\u001b[0m \u001b[0mprint\u001b[0m\u001b[0;34m(\u001b[0m\u001b[0;34m\"success!\"\u001b[0m\u001b[0;34m)\u001b[0m\u001b[0;34m\u001b[0m\u001b[0;34m\u001b[0m\u001b[0m\n",
            "\u001b[0;31mFileNotFoundError\u001b[0m: [Errno 2] No such file or directory: '/content/drive/MyDrive/data/car_racing_rollouts_5.pkl'"
          ]
        }
      ],
      "source": [
        "\n",
        "import torch\n",
        "import torch.nn as nn\n",
        "import torch.optim as optim\n",
        "from torch.utils.data import DataLoader, Dataset\n",
        "import numpy as np\n",
        "import pickle\n",
        "from google.colab import drive\n",
        "import cv2\n",
        "\n",
        "\n",
        "drive.mount('/content/drive')\n",
        "\n",
        "\n",
        "data_path = \"/content/drive/MyDrive/data/car_racing_rollouts_5.pkl\"\n",
        "with open(data_path, \"rb\") as f:\n",
        "    rollouts = pickle.load(f)\n",
        "print(\"success!\")\n",
        "\n",
        "\n"
      ]
    },
    {
      "cell_type": "code",
      "source": [
        "\n",
        "states = []\n",
        "rewards = []\n",
        "for episode in rollouts:\n",
        "    for transition in episode:\n",
        "        obs, action, reward, next_obs, done = transition\n",
        "        states.append(obs)\n",
        "        rewards.append(reward)\n",
        "states = np.array(states)  # shape: (N, 64, 64)\n",
        "states = states[:, np.newaxis, :, :]  # channel dim: (N, 1, 64, 64)\n",
        "rewards = np.array(rewards)  # shape: (N,)\n",
        "print(\"Total states:\", states.shape[0])\n",
        "\n",
        "\n",
        "class CarRacingDataset(Dataset):\n",
        "    def __init__(self, states, rewards):\n",
        "        self.states = torch.tensor(states, dtype=torch.float32)\n",
        "    def __len__(self):\n",
        "        return self.states.shape[0]\n",
        "    def __getitem__(self, idx):\n",
        "        return self.states[idx]\n",
        "\n",
        "dataset = CarRacingDataset(states, rewards)\n",
        "batch_size = 32\n",
        "dataloader = DataLoader(dataset, batch_size=batch_size, shuffle=True)\n",
        "\n",
        "latent_dim = 64"
      ],
      "metadata": {
        "id": "8oVIB12oWwlJ"
      },
      "execution_count": null,
      "outputs": []
    },
    {
      "cell_type": "code",
      "source": [
        "class VAE(nn.Module):\n",
        "    def __init__(self, latent_dim):\n",
        "        super(VAE, self).__init__()\n",
        "        # (input: [1, 64, 64])\n",
        "        self.encoder = nn.Sequential(\n",
        "            nn.Conv2d(1, 32, kernel_size=4, stride=2, padding=1),   # -> [32, 32, 32]\n",
        "            nn.ReLU(),\n",
        "            nn.Conv2d(32, 64, kernel_size=4, stride=2, padding=1),    # -> [64, 16, 16]\n",
        "            nn.ReLU(),\n",
        "            nn.Conv2d(64, 128, kernel_size=4, stride=2, padding=1),   # -> [128, 8, 8]\n",
        "            nn.ReLU(),\n",
        "            nn.Conv2d(128, 256, kernel_size=4, stride=2, padding=1),  # -> [256, 4, 4]\n",
        "            nn.ReLU()\n",
        "        )\n",
        "        self.fc_mu = nn.Linear(256 * 4 * 4, latent_dim)\n",
        "        self.fc_logvar = nn.Linear(256 * 4 * 4, latent_dim)\n",
        "\n",
        "\n",
        "        self.reward_head = nn.Sequential(\n",
        "            nn.Linear(latent_dim, 64),\n",
        "            nn.ReLU(),\n",
        "            nn.Linear(64, 1)\n",
        "        )\n",
        "\n",
        "\n",
        "        self.fc_decode = nn.Linear(latent_dim, 256 * 4 * 4)\n",
        "        self.decoder = nn.Sequential(\n",
        "            nn.ConvTranspose2d(256, 128, kernel_size=4, stride=2, padding=1), # -> [128, 8, 8]\n",
        "            nn.ReLU(),\n",
        "            nn.ConvTranspose2d(128, 64, kernel_size=4, stride=2, padding=1),  # -> [64, 16, 16]\n",
        "            nn.ReLU(),\n",
        "            nn.ConvTranspose2d(64, 32, kernel_size=4, stride=2, padding=1),   # -> [32, 32, 32]\n",
        "            nn.ReLU(),\n",
        "            nn.ConvTranspose2d(32, 1, kernel_size=4, stride=2, padding=1),    # -> [1, 64, 64]\n",
        "            nn.Sigmoid()\n",
        "        )\n",
        "\n",
        "    def encode(self, x):\n",
        "        x = self.encoder(x)\n",
        "        x = x.view(x.size(0), -1)\n",
        "        mu = self.fc_mu(x)\n",
        "        logvar = self.fc_logvar(x)\n",
        "        return mu, logvar\n",
        "\n",
        "    def reparameterize(self, mu, logvar):\n",
        "        std = torch.exp(0.5 * logvar)  # standard deviation\n",
        "        eps = torch.randn_like(std)    # sample from N(0,1)\n",
        "        return mu + std * eps          # z = mu + sigma * epsilon\n",
        "\n",
        "    def decode(self, z):\n",
        "        x = self.fc_decode(z)\n",
        "        x = x.view(-1, 256, 4, 4)\n",
        "        x = self.decoder(x)\n",
        "        return x\n",
        "\n",
        "    def forward(self, x):\n",
        "        mu, logvar = self.encode(x)\n",
        "        z = self.reparameterize(mu, logvar)\n",
        "        x_recon = self.decode(z)\n",
        "        reward_pred = self.reward_head(z)\n",
        "        return x_recon, mu, logvar, reward_pred"
      ],
      "metadata": {
        "id": "nKyCsJW77Y2s"
      },
      "execution_count": null,
      "outputs": []
    },
    {
      "cell_type": "code",
      "source": [
        "\n",
        "device = torch.device(\"cuda\" if torch.cuda.is_available() else \"cpu\")\n",
        "model = VAE(latent_dim).to(device)\n",
        "optimizer = optim.Adam(model.parameters(), lr=1e-3)\n",
        "\n",
        "\n",
        "bce = 0\n",
        "kld = 0\n",
        "reward = 0\n",
        "# Loss function combining reconstruction, KL divergence, and reward prediction using uncertainty weighting\n",
        "def loss_function(recon_x, x, mu, logvar, reward_pred, reward, model):\n",
        "    # Compute individual losses\n",
        "    BCE = nn.functional.binary_cross_entropy(recon_x, x, reduction='sum')\n",
        "    KLD = -0.5 * torch.sum(1 + logvar - mu.pow(2) - logvar.exp())\n",
        "    reward_loss = nn.functional.mse_loss(reward_pred.squeeze(), reward, reduction='sum')\n",
        "\n",
        "    reward += reward_loss\n",
        "    bce += BCE\n",
        "    kld += KLD\n",
        "    # Final combined loss\n",
        "    total_loss = BCE + (50*reward_loss) + KLD\n",
        "    return total_loss\n",
        "\n",
        "\n",
        "\n",
        "\n",
        "# Training loop\n",
        "epochs = 50\n",
        "model.train()\n",
        "for epoch in range(1, epochs + 1):\n",
        "    train_loss = 0\n",
        "    total_bce = 0\n",
        "    total_reward_loss = 0\n",
        "    total_kld = 0\n",
        "    for batch in dataloader:\n",
        "        img, reward = batch\n",
        "        img = img.to(device)\n",
        "        reward = reward.to(device)  # reward shape: [batch_size] or [batch_size, 1]\n",
        "\n",
        "        optimizer.zero_grad()\n",
        "        recon_batch, mu, logvar, reward_pred = model(img)\n",
        "        loss = loss_function(recon_batch, img, mu, logvar, reward_pred, reward, model)\n",
        "        loss.backward()\n",
        "        train_loss += loss.item()\n",
        "        optimizer.step()\n",
        "\n",
        "\n",
        "\n",
        "\n",
        "    avg_loss = train_loss / len(dataset)\n",
        "    print(f\"Epoch {epoch}, Average Loss: {avg_loss:.4f}\")\n",
        "    avg_reward_losss =  reward/len(dataset)\n",
        "    avg_bce_loss =  bce/len(dataset)\n",
        "    avg_kld_loss =  kld/len(dataset)\n",
        "    print(f\"Epoch {epoch}, Average reward Loss: {avg_reward_losss:.4f}\")\n",
        "    print(f\"Epoch {epoch}, Average bce Loss: {avg_bce_loss:.4f}\")\n",
        "    print(f\"Epoch {epoch}, Average kld Loss: {avg_kld_loss:.4f}\")\n",
        "    bce = 0\n",
        "    kld = 0\n",
        "    reward = 0\n",
        "\n",
        "# Save the trained model to Google Drive\n",
        "torch.save(model.state_dict(), \"/content/drive/MyDrive/vae_car_racing_newloss3.pth\")\n",
        "print(\"Model saved!\")"
      ],
      "metadata": {
        "colab": {
          "base_uri": "https://localhost:8080/",
          "height": 211
        },
        "id": "fuWG1gcf7ZL5",
        "outputId": "01196814-4768-468f-cbc2-74756c1ab0e5"
      },
      "execution_count": null,
      "outputs": [
        {
          "output_type": "error",
          "ename": "NameError",
          "evalue": "name 'latent_dim' is not defined",
          "traceback": [
            "\u001b[0;31m---------------------------------------------------------------------------\u001b[0m",
            "\u001b[0;31mNameError\u001b[0m                                 Traceback (most recent call last)",
            "\u001b[0;32m<ipython-input-4-af8e99f593e5>\u001b[0m in \u001b[0;36m<cell line: 0>\u001b[0;34m()\u001b[0m\n\u001b[1;32m      5\u001b[0m \u001b[0;31m# Initialize model, optimizer, and device\u001b[0m\u001b[0;34m\u001b[0m\u001b[0;34m\u001b[0m\u001b[0m\n\u001b[1;32m      6\u001b[0m \u001b[0mdevice\u001b[0m \u001b[0;34m=\u001b[0m \u001b[0mtorch\u001b[0m\u001b[0;34m.\u001b[0m\u001b[0mdevice\u001b[0m\u001b[0;34m(\u001b[0m\u001b[0;34m\"cuda\"\u001b[0m \u001b[0;32mif\u001b[0m \u001b[0mtorch\u001b[0m\u001b[0;34m.\u001b[0m\u001b[0mcuda\u001b[0m\u001b[0;34m.\u001b[0m\u001b[0mis_available\u001b[0m\u001b[0;34m(\u001b[0m\u001b[0;34m)\u001b[0m \u001b[0;32melse\u001b[0m \u001b[0;34m\"cpu\"\u001b[0m\u001b[0;34m)\u001b[0m\u001b[0;34m\u001b[0m\u001b[0;34m\u001b[0m\u001b[0m\n\u001b[0;32m----> 7\u001b[0;31m \u001b[0mmodel\u001b[0m \u001b[0;34m=\u001b[0m \u001b[0mVAE\u001b[0m\u001b[0;34m(\u001b[0m\u001b[0mlatent_dim\u001b[0m\u001b[0;34m)\u001b[0m\u001b[0;34m.\u001b[0m\u001b[0mto\u001b[0m\u001b[0;34m(\u001b[0m\u001b[0mdevice\u001b[0m\u001b[0;34m)\u001b[0m\u001b[0;34m\u001b[0m\u001b[0;34m\u001b[0m\u001b[0m\n\u001b[0m\u001b[1;32m      8\u001b[0m \u001b[0moptimizer\u001b[0m \u001b[0;34m=\u001b[0m \u001b[0moptim\u001b[0m\u001b[0;34m.\u001b[0m\u001b[0mAdam\u001b[0m\u001b[0;34m(\u001b[0m\u001b[0mmodel\u001b[0m\u001b[0;34m.\u001b[0m\u001b[0mparameters\u001b[0m\u001b[0;34m(\u001b[0m\u001b[0;34m)\u001b[0m\u001b[0;34m,\u001b[0m \u001b[0mlr\u001b[0m\u001b[0;34m=\u001b[0m\u001b[0;36m1e-3\u001b[0m\u001b[0;34m)\u001b[0m\u001b[0;34m\u001b[0m\u001b[0;34m\u001b[0m\u001b[0m\n\u001b[1;32m      9\u001b[0m \u001b[0;34m\u001b[0m\u001b[0m\n",
            "\u001b[0;31mNameError\u001b[0m: name 'latent_dim' is not defined"
          ]
        }
      ]
    },
    {
      "cell_type": "code",
      "source": [
        "import matplotlib.pyplot as plt\n",
        "\n",
        "# Switch model to evaluation mode\n",
        "model.eval()\n",
        "with torch.no_grad():\n",
        "    sample, _ = next(iter(dataloader))  # Unpack image and reward\n",
        "    sample = sample.to(device)  # Move only the image to the device\n",
        "    recon, _, _,_= model(sample)  # Forward pass\n",
        "\n",
        "\n",
        "sample = sample.cpu().numpy()\n",
        "recon = recon.cpu().numpy()\n",
        "\n",
        "# Ploting first 5 original and reconstructed images\n",
        "fig, axs = plt.subplots(2, 5, figsize=(15, 6))\n",
        "for i in range(5):\n",
        "    axs[0, i].imshow(sample[i].squeeze(), cmap='gray')\n",
        "    axs[0, i].set_title(\"Original\")\n",
        "    axs[0, i].axis('off')\n",
        "\n",
        "    axs[1, i].imshow(recon[i].squeeze(), cmap='gray')\n",
        "    axs[1, i].set_title(\"Reconstruction\")\n",
        "    axs[1, i].axis('off')\n",
        "\n",
        "plt.show()\n"
      ],
      "metadata": {
        "id": "X3eWw-ySW_ad"
      },
      "execution_count": null,
      "outputs": []
    },
    {
      "cell_type": "code",
      "source": [
        "# # Training loop with detailed loss logging\n",
        "# epochs = 50\n",
        "# model.train()\n",
        "# for epoch in range(1, epochs + 1):\n",
        "#     train_loss = 0\n",
        "#     total_bce = 0\n",
        "#     total_reward_loss = 0\n",
        "#     total_kld = 0\n",
        "\n",
        "#     for batch in dataloader:\n",
        "#         img, reward = batch\n",
        "#         img = img.to(device)\n",
        "#         reward = reward.to(device)\n",
        "\n",
        "#         optimizer.zero_grad()\n",
        "#         recon_batch, mu, logvar, reward_pred = model(img)\n",
        "\n",
        "#         # Calculate individual losses\n",
        "#         BCE = nn.functional.binary_cross_entropy(recon_batch, img, reduction='sum')\n",
        "#         KLD = -0.5 * torch.sum(1 + logvar - mu.pow(2) - logvar.exp())\n",
        "#         reward_loss = nn.functional.mse_loss(reward_pred.squeeze(), reward, reduction='sum')\n",
        "\n",
        "#         # Scaling and hyperparameters\n",
        "#         scaling_factor = 2000  # As determined from your averages\n",
        "#         scaled_reward_loss = reward_loss * scaling_factor\n",
        "#         lambda_val = 0.5\n",
        "#         beta_val = 20\n",
        "\n",
        "#         # Total loss\n",
        "#         loss = BCE + lambda_val * scaled_reward_loss + beta_val * KLD\n",
        "#         loss.backward()\n",
        "#         optimizer.step()\n",
        "\n",
        "#         train_loss += loss.item()\n",
        "#         total_bce += BCE.item()\n",
        "#         total_reward_loss += reward_loss.item()\n",
        "#         total_kld += KLD.item()\n",
        "\n",
        "#     avg_loss = train_loss / len(dataset)\n",
        "#     avg_bce = total_bce / len(dataset)\n",
        "#     avg_reward_loss = total_reward_loss / len(dataset)\n",
        "#     avg_kld = total_kld / len(dataset)\n",
        "\n",
        "#     print(f\"Epoch {epoch}, Total Loss: {avg_loss:.4f}, BCE: {avg_bce:.4f}, \"\n",
        "#           f\"Reward Loss: {avg_reward_loss:.4f}, KLD: {avg_kld:.4f}\")\n"
      ],
      "metadata": {
        "id": "b4Ml6m6n47NC",
        "colab": {
          "base_uri": "https://localhost:8080/"
        },
        "outputId": "1850e0e2-3588-47b1-cb2f-e39476b6f989"
      },
      "execution_count": null,
      "outputs": [
        {
          "output_type": "stream",
          "name": "stdout",
          "text": [
            "Epoch 1, Total Loss: 4412.5582, BCE: 2372.4877, Reward Loss: 1.8426, KLD: 9.8760\n",
            "Epoch 2, Total Loss: 4505.1474, BCE: 2377.4627, Reward Loss: 1.9646, KLD: 8.1562\n",
            "Epoch 3, Total Loss: 3586.5608, BCE: 2373.6318, Reward Loss: 1.0884, KLD: 6.2248\n",
            "Epoch 4, Total Loss: 3421.9883, BCE: 2372.9875, Reward Loss: 0.9395, KLD: 5.4765\n",
            "Epoch 5, Total Loss: 3374.1000, BCE: 2372.2060, Reward Loss: 0.8938, KLD: 5.4057\n",
            "Epoch 6, Total Loss: 3383.8922, BCE: 2373.0668, Reward Loss: 0.9085, KLD: 5.1178\n",
            "Epoch 7, Total Loss: 3256.3790, BCE: 2372.3756, Reward Loss: 0.7872, KLD: 4.8388\n",
            "Epoch 8, Total Loss: 3632.4677, BCE: 2372.9483, Reward Loss: 1.1548, KLD: 5.2341\n",
            "Epoch 9, Total Loss: 3267.2516, BCE: 2373.2087, Reward Loss: 0.7969, KLD: 4.8563\n",
            "Epoch 10, Total Loss: 3224.2379, BCE: 2372.1911, Reward Loss: 0.7602, KLD: 4.5938\n",
            "Epoch 11, Total Loss: 3246.3737, BCE: 2372.1186, Reward Loss: 0.7774, KLD: 4.8435\n",
            "Epoch 12, Total Loss: 3336.2125, BCE: 2372.3708, Reward Loss: 0.8765, KLD: 4.3670\n",
            "Epoch 13, Total Loss: 3173.1229, BCE: 2372.4633, Reward Loss: 0.7137, KLD: 4.3480\n",
            "Epoch 14, Total Loss: 3214.9294, BCE: 2371.5443, Reward Loss: 0.7571, KLD: 4.3127\n",
            "Epoch 15, Total Loss: 3246.8312, BCE: 2371.9078, Reward Loss: 0.7882, KLD: 4.3350\n",
            "Epoch 16, Total Loss: 2905.6075, BCE: 2371.8046, Reward Loss: 0.4534, KLD: 4.0185\n",
            "Epoch 17, Total Loss: 2991.5192, BCE: 2371.6196, Reward Loss: 0.5307, KLD: 4.4597\n",
            "Epoch 18, Total Loss: 2973.6101, BCE: 2372.1256, Reward Loss: 0.5131, KLD: 4.4213\n",
            "Epoch 19, Total Loss: 3446.0014, BCE: 2373.3104, Reward Loss: 0.9818, KLD: 4.5440\n",
            "Epoch 20, Total Loss: 2944.6546, BCE: 2370.1137, Reward Loss: 0.4822, KLD: 4.6155\n",
            "Epoch 21, Total Loss: 2872.4695, BCE: 2371.1000, Reward Loss: 0.4183, KLD: 4.1556\n",
            "Epoch 22, Total Loss: 3115.1146, BCE: 2371.9421, Reward Loss: 0.6595, KLD: 4.1853\n",
            "Epoch 23, Total Loss: 2990.2997, BCE: 2371.3158, Reward Loss: 0.5371, KLD: 4.0937\n",
            "Epoch 24, Total Loss: 2899.7394, BCE: 2372.6492, Reward Loss: 0.4510, KLD: 3.8034\n",
            "Epoch 25, Total Loss: 2957.9733, BCE: 2371.1339, Reward Loss: 0.5088, KLD: 3.9014\n",
            "Epoch 26, Total Loss: 2765.0097, BCE: 2370.4107, Reward Loss: 0.3175, KLD: 3.8538\n",
            "Epoch 27, Total Loss: 3116.6072, BCE: 2371.3373, Reward Loss: 0.6594, KLD: 4.2945\n",
            "Epoch 28, Total Loss: 2760.0496, BCE: 2371.3050, Reward Loss: 0.3142, KLD: 3.7289\n",
            "Epoch 29, Total Loss: 2849.5934, BCE: 2371.7597, Reward Loss: 0.4095, KLD: 3.4166\n",
            "Epoch 30, Total Loss: 2999.9318, BCE: 2371.4972, Reward Loss: 0.5557, KLD: 3.6387\n",
            "Epoch 31, Total Loss: 2792.9338, BCE: 2370.8205, Reward Loss: 0.3541, KLD: 3.3994\n",
            "Epoch 32, Total Loss: 3258.0404, BCE: 2370.7957, Reward Loss: 0.8063, KLD: 4.0476\n",
            "Epoch 33, Total Loss: 3072.9304, BCE: 2370.9756, Reward Loss: 0.6267, KLD: 3.7611\n",
            "Epoch 34, Total Loss: 2710.4013, BCE: 2371.1088, Reward Loss: 0.2739, KLD: 3.2697\n",
            "Epoch 35, Total Loss: 2733.2022, BCE: 2370.3053, Reward Loss: 0.2951, KLD: 3.3885\n",
            "Epoch 36, Total Loss: 2928.6753, BCE: 2370.8720, Reward Loss: 0.4928, KLD: 3.2524\n",
            "Epoch 37, Total Loss: 2728.3900, BCE: 2370.4437, Reward Loss: 0.2946, KLD: 3.1659\n",
            "Epoch 38, Total Loss: 2747.0370, BCE: 2371.1523, Reward Loss: 0.3135, KLD: 3.1201\n",
            "Epoch 39, Total Loss: 2952.0411, BCE: 2370.6916, Reward Loss: 0.5048, KLD: 3.8291\n",
            "Epoch 40, Total Loss: 2774.4432, BCE: 2370.2604, Reward Loss: 0.3408, KLD: 3.1674\n",
            "Epoch 41, Total Loss: 2839.6595, BCE: 2372.1968, Reward Loss: 0.4049, KLD: 3.1257\n",
            "Epoch 42, Total Loss: 2895.6338, BCE: 2372.7776, Reward Loss: 0.4587, KLD: 3.2103\n",
            "Epoch 43, Total Loss: 2909.4827, BCE: 2369.3083, Reward Loss: 0.4599, KLD: 4.0125\n",
            "Epoch 44, Total Loss: 2860.7743, BCE: 2372.2092, Reward Loss: 0.4272, KLD: 3.0695\n",
            "Epoch 45, Total Loss: 2738.9489, BCE: 2371.8653, Reward Loss: 0.3110, KLD: 2.8029\n",
            "Epoch 46, Total Loss: 3450.8357, BCE: 2370.7802, Reward Loss: 0.9948, KLD: 4.2631\n",
            "Epoch 47, Total Loss: 2763.4446, BCE: 2368.4645, Reward Loss: 0.3194, KLD: 3.7767\n",
            "Epoch 48, Total Loss: 2667.5597, BCE: 2369.0190, Reward Loss: 0.2357, KLD: 3.1399\n",
            "Epoch 49, Total Loss: 2644.1371, BCE: 2369.4392, Reward Loss: 0.2226, KLD: 2.6062\n",
            "Epoch 50, Total Loss: 2768.7607, BCE: 2370.9726, Reward Loss: 0.3473, KLD: 2.5246\n"
          ]
        }
      ]
    },
    {
      "cell_type": "code",
      "source": [
        "import matplotlib.pyplot as plt\n",
        "\n",
        "\n",
        "\n",
        "model.eval()\n",
        "with torch.no_grad():\n",
        "    sample, _ = next(iter(dataloader))\n",
        "    sample = sample.to(device)\n",
        "    recon, _, _,_= model(sample)\n",
        "\n",
        "\n",
        "sample = sample.cpu().numpy()\n",
        "recon = recon.cpu().numpy()\n",
        "\n",
        "\n",
        "fig, axs = plt.subplots(2, 5, figsize=(15, 6))\n",
        "for i in range(5):\n",
        "    axs[0, i].imshow(sample[i].squeeze(), cmap='gray')\n",
        "    axs[0, i].set_title(\"Original\")\n",
        "    axs[0, i].axis('off')\n",
        "\n",
        "    axs[1, i].imshow(recon[i].squeeze(), cmap='gray')\n",
        "    axs[1, i].set_title(\"Reconstruction\")\n",
        "    axs[1, i].axis('off')\n",
        "\n",
        "plt.show()\n"
      ],
      "metadata": {
        "colab": {
          "base_uri": "https://localhost:8080/",
          "height": 500
        },
        "id": "dh0GBRce53wZ",
        "outputId": "748880bf-db01-4379-cfe8-78d508e45afe"
      },
      "execution_count": null,
      "outputs": [
        {
          "output_type": "display_data",
          "data": {
            "text/plain": [
              "<Figure size 1500x600 with 10 Axes>"
            ],
            "image/png": "[encoded data removed]"
          },
          "metadata": {}
        }
      ]
    },
    {
      "cell_type": "code",
      "source": [
        "torch.save(model.state_dict(), \"/content/drive/MyDrive/vae_car_racing_newloss1.pth\")\n",
        "print(\"Model saved!\")"
      ],
      "metadata": {
        "id": "pDEWXIai80NO"
      },
      "execution_count": null,
      "outputs": []
    },
    {
      "cell_type": "code",
      "source": [],
      "metadata": {
        "id": "Cc3rofB4YC_H"
      },
      "execution_count": null,
      "outputs": []
    },
    {
      "cell_type": "code",
      "source": [],
      "metadata": {
        "id": "A5axUKEBYF9h"
      },
      "execution_count": null,
      "outputs": []
    }
  ]
}