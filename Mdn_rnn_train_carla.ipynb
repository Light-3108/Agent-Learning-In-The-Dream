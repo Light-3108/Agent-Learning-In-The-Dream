{
  "nbformat": 4,
  "nbformat_minor": 0,
  "metadata": {
    "colab": {
      "provenance": []
    },
    "kernelspec": {
      "name": "python3",
      "display_name": "Python 3"
    },
    "language_info": {
      "name": "python"
    }
  },
  "cells": [
    {
      "cell_type": "code",
      "execution_count": null,
      "metadata": {
        "colab": {
          "base_uri": "https://localhost:8080/"
        },
        "id": "O9CXc8x3NjK8",
        "outputId": "d2b75057-d655-4492-9efb-6074dada02dd"
      },
      "outputs": [
        {
          "output_type": "stream",
          "name": "stdout",
          "text": [
            "Mounted at /content/drive\n"
          ]
        }
      ],
      "source": [
        "# import numpy as np\n",
        "# import matplotlib.pyplot as plt\n",
        "from google.colab import drive\n",
        "\n",
        "# # Load dataset\n",
        "\n",
        "# data_path = \"/content/drive/MyDrive/minor/carla_data_all_upto23/rollout_6.npz\"\n",
        "# data = np.load(data_path, allow_pickle=True)  # allow_pickle is necessary for lists\n",
        "\n",
        "import os\n",
        "import glob\n",
        "import numpy as np\n",
        "drive.mount('/content/drive')\n",
        "\n",
        "directories = [\n",
        "    \"/content/drive/MyDrive/minor/carla_data_all_upto23\",\n",
        "    \"/content/drive/MyDrive/minor/carla_data_all_session2\",\n",
        "    \"/content/drive/MyDrive/minor/carla_data_all\"\n",
        "]\n"
      ]
    },
    {
      "cell_type": "code",
      "source": [
        "states = []\n",
        "action1 = []\n",
        "\n",
        "for folder in directories:\n",
        "    files = glob.glob(os.path.join(folder, \"*.npz\"))\n",
        "    for file_path in files:\n",
        "        data = np.load(file_path, allow_pickle=True)\n",
        "        observations = data[\"observations\"]\n",
        "        actions = data[\"actions\"]\n",
        "        N = min(len(observations), len(actions))\n",
        "\n",
        "        for i in range(N):\n",
        "            comp_img = observations[i]\n",
        "            if isinstance(comp_img, np.ndarray) and comp_img.ndim == 0:\n",
        "                comp_img = comp_img.item()\n",
        "\n",
        "            states.append(comp_img)\n",
        "            action1.append(actions[i])\n",
        "\n",
        "all_images_array = np.array(states, dtype=object)\n",
        "all_actions_array1 = np.array(action1)\n",
        "\n",
        "print(\"Total images collected:\", all_images_array.shape[0])\n",
        "print(\"Total actions collected:\", all_actions_array1.shape[0])"
      ],
      "metadata": {
        "colab": {
          "base_uri": "https://localhost:8080/"
        },
        "id": "JEPkeZYuNph8",
        "outputId": "dc2b50b7-264a-4a29-f74e-2ce998aa24d6"
      },
      "execution_count": null,
      "outputs": [
        {
          "output_type": "stream",
          "name": "stdout",
          "text": [
            "Total images collected: 39071\n",
            "Total actions collected: 39071\n"
          ]
        }
      ]
    },
    {
      "cell_type": "code",
      "source": [
        "num_actions = len(action1)\n",
        "all_actions_array = np.zeros((num_actions, 3))\n",
        "for i in range(num_actions):\n",
        "    action_dict = all_actions_array1[i]\n",
        "    all_actions_array[i, 0] = action_dict['throttle']\n",
        "    all_actions_array[i, 1] = action_dict['steer']\n",
        "    all_actions_array[i, 2] = action_dict['brake']\n",
        "\n",
        "print(all_actions_array[5])\n",
        "\n",
        "\n",
        "\n"
      ],
      "metadata": {
        "colab": {
          "base_uri": "https://localhost:8080/"
        },
        "id": "Qb5Fp3YLNrLC",
        "outputId": "81279fc3-a1e3-4853-fe9f-a51512edff9d"
      },
      "execution_count": null,
      "outputs": [
        {
          "output_type": "stream",
          "name": "stdout",
          "text": [
            "[0.85000002 0.00181345 0.        ]\n"
          ]
        }
      ]
    },
    {
      "cell_type": "code",
      "source": [
        "# img = Image.open(io.BytesIO(all_images_array[0]))\n",
        "# img_array = np.array(img)\n",
        "# img_array = img_array / 255.0\n",
        "# img_tensor = torch.from_numpy(img_array).unsqueeze(0).float()\n",
        "# print(img_tensor.shape)"
      ],
      "metadata": {
        "colab": {
          "base_uri": "https://localhost:8080/",
          "height": 211
        },
        "id": "9r7t_abtTh7A",
        "outputId": "cf8ffc7a-461b-411d-8a00-877e32041a25"
      },
      "execution_count": null,
      "outputs": [
        {
          "output_type": "error",
          "ename": "NameError",
          "evalue": "name 'Image' is not defined",
          "traceback": [
            "\u001b[0;31m---------------------------------------------------------------------------\u001b[0m",
            "\u001b[0;31mNameError\u001b[0m                                 Traceback (most recent call last)",
            "\u001b[0;32m<ipython-input-4-cd3112adcf91>\u001b[0m in \u001b[0;36m<cell line: 0>\u001b[0;34m()\u001b[0m\n\u001b[0;32m----> 1\u001b[0;31m \u001b[0mimg\u001b[0m \u001b[0;34m=\u001b[0m \u001b[0mImage\u001b[0m\u001b[0;34m.\u001b[0m\u001b[0mopen\u001b[0m\u001b[0;34m(\u001b[0m\u001b[0mio\u001b[0m\u001b[0;34m.\u001b[0m\u001b[0mBytesIO\u001b[0m\u001b[0;34m(\u001b[0m\u001b[0mall_images_array\u001b[0m\u001b[0;34m[\u001b[0m\u001b[0;36m0\u001b[0m\u001b[0;34m]\u001b[0m\u001b[0;34m)\u001b[0m\u001b[0;34m)\u001b[0m\u001b[0;34m\u001b[0m\u001b[0;34m\u001b[0m\u001b[0m\n\u001b[0m\u001b[1;32m      2\u001b[0m \u001b[0mimg_array\u001b[0m \u001b[0;34m=\u001b[0m \u001b[0mnp\u001b[0m\u001b[0;34m.\u001b[0m\u001b[0marray\u001b[0m\u001b[0;34m(\u001b[0m\u001b[0mimg\u001b[0m\u001b[0;34m)\u001b[0m\u001b[0;34m\u001b[0m\u001b[0;34m\u001b[0m\u001b[0m\n\u001b[1;32m      3\u001b[0m \u001b[0mimg_array\u001b[0m \u001b[0;34m=\u001b[0m \u001b[0mimg_array\u001b[0m \u001b[0;34m/\u001b[0m \u001b[0;36m255.0\u001b[0m\u001b[0;34m\u001b[0m\u001b[0;34m\u001b[0m\u001b[0m\n\u001b[1;32m      4\u001b[0m \u001b[0mimg_tensor\u001b[0m \u001b[0;34m=\u001b[0m \u001b[0mtorch\u001b[0m\u001b[0;34m.\u001b[0m\u001b[0mfrom_numpy\u001b[0m\u001b[0;34m(\u001b[0m\u001b[0mimg_array\u001b[0m\u001b[0;34m)\u001b[0m\u001b[0;34m.\u001b[0m\u001b[0munsqueeze\u001b[0m\u001b[0;34m(\u001b[0m\u001b[0;36m0\u001b[0m\u001b[0;34m)\u001b[0m\u001b[0;34m.\u001b[0m\u001b[0mfloat\u001b[0m\u001b[0;34m(\u001b[0m\u001b[0;34m)\u001b[0m\u001b[0;34m\u001b[0m\u001b[0;34m\u001b[0m\u001b[0m\n\u001b[1;32m      5\u001b[0m \u001b[0mprint\u001b[0m\u001b[0;34m(\u001b[0m\u001b[0mimg_tensor\u001b[0m\u001b[0;34m.\u001b[0m\u001b[0mshape\u001b[0m\u001b[0;34m)\u001b[0m\u001b[0;34m\u001b[0m\u001b[0;34m\u001b[0m\u001b[0m\n",
            "\u001b[0;31mNameError\u001b[0m: name 'Image' is not defined"
          ]
        }
      ]
    },
    {
      "cell_type": "code",
      "source": [
        "import torch\n",
        "import numpy as np\n",
        "from torch import nn, optim\n",
        "from torch.utils.data import Dataset, DataLoader\n",
        "import os\n",
        "from tqdm import tqdm"
      ],
      "metadata": {
        "id": "ZycibGC1Nsnj"
      },
      "execution_count": null,
      "outputs": []
    },
    {
      "cell_type": "code",
      "source": [
        "class VAE(nn.Module):\n",
        "    def __init__(self, latent_dim):\n",
        "        super(VAE, self).__init__()\n",
        "        self.encoder = nn.Sequential(\n",
        "            nn.Conv2d(1, 32, kernel_size=4, stride=2, padding=1),    # -> [32, 150, 150]\n",
        "            nn.ReLU(),\n",
        "            nn.Conv2d(32, 64, kernel_size=4, stride=2, padding=1),   # -> [64, 75, 75]\n",
        "            nn.ReLU(),\n",
        "            nn.Conv2d(64, 128, kernel_size=4, stride=2, padding=1),  # -> [128, 38, 38]\n",
        "            nn.ReLU(),\n",
        "            nn.Conv2d(128, 256, kernel_size=4, stride=2, padding=1), # -> [256, 19, 19]\n",
        "            nn.ReLU(),\n",
        "            nn.Conv2d(256, 512, kernel_size=4, stride=2, padding=1), # -> [512, 10, 10]\n",
        "            nn.ReLU()\n",
        "        )\n",
        "\n",
        "        self.flatten_size = 41472\n",
        "\n",
        "        self.fc_mu = nn.Linear(self.flatten_size, latent_dim)\n",
        "        self.fc_logvar = nn.Linear(self.flatten_size, latent_dim)\n",
        "\n",
        "        self.fc_decode = nn.Linear(latent_dim, self.flatten_size)\n",
        "        self.decoder = nn.Sequential(\n",
        "            nn.ConvTranspose2d(512, 256, kernel_size=4, stride=2, padding=1),  # -> [256, 19, 19]\n",
        "            nn.ReLU(),\n",
        "            nn.ConvTranspose2d(256, 128, kernel_size=4, stride=2, padding=1),  # -> [128, 38, 38]\n",
        "            nn.ReLU(),\n",
        "            nn.ConvTranspose2d(128, 64, kernel_size=4, stride=2, padding=1),   # -> [64, 75, 75]\n",
        "            nn.ReLU(),\n",
        "            nn.ConvTranspose2d(64, 32, kernel_size=4, stride=2, padding=1),    # -> [32, 150, 150]\n",
        "            nn.ReLU(),\n",
        "            nn.ConvTranspose2d(32, 1, kernel_size=16, stride=2, padding=1),\n",
        "            nn.Sigmoid()\n",
        "        )\n",
        "\n",
        "    def encode(self, x):\n",
        "        x = self.encoder(x)\n",
        "        x = x.view(x.size(0), -1)\n",
        "        mu = self.fc_mu(x)\n",
        "        logvar = self.fc_logvar(x)\n",
        "        return mu, logvar\n",
        "\n",
        "    def reparameterize(self, mu, logvar):\n",
        "        std = torch.exp(0.5 * logvar)  # standard deviation\n",
        "        eps = torch.randn_like(std)     # sample from N(0,1)\n",
        "        return mu + std * eps           # z = mu + sigma * epsilon\n",
        "\n",
        "    def decode(self, z):\n",
        "        x = self.fc_decode(z)\n",
        "        x = x.view(-1, 512, 9, 9)\n",
        "        x = self.decoder(x)\n",
        "        return x\n",
        "\n",
        "\n",
        "    def forward(self, x):\n",
        "        mu, logvar = self.encode(x)\n",
        "        z = self.reparameterize(mu, logvar)\n",
        "        x_recon = self.decode(z)\n",
        "        return x_recon, mu, logvar"
      ],
      "metadata": {
        "id": "wg-acmjyPkWM"
      },
      "execution_count": null,
      "outputs": []
    },
    {
      "cell_type": "code",
      "source": [
        "latent_dim = 64\n",
        "device = torch.device(\"cuda\" if torch.cuda.is_available() else \"cpu\")\n",
        "vae = VAE(latent_dim).to(device)\n",
        "vae.load_state_dict(torch.load(\"/content/drive/MyDrive/vae_model_epoch_20.pth\", map_location=device))\n",
        "vae.eval()\n",
        "print(\"VAE loaded.\")"
      ],
      "metadata": {
        "colab": {
          "base_uri": "https://localhost:8080/"
        },
        "id": "avbGZt1jNygL",
        "outputId": "fac982c0-22bf-485a-f386-822f54ea2f45"
      },
      "execution_count": null,
      "outputs": [
        {
          "output_type": "stream",
          "name": "stdout",
          "text": [
            "VAE loaded.\n"
          ]
        },
        {
          "output_type": "stream",
          "name": "stderr",
          "text": [
            "<ipython-input-17-37507e60b825>:4: FutureWarning: You are using `torch.load` with `weights_only=False` (the current default value), which uses the default pickle module implicitly. It is possible to construct malicious pickle data which will execute arbitrary code during unpickling (See https://github.com/pytorch/pytorch/blob/main/SECURITY.md#untrusted-models for more details). In a future release, the default value for `weights_only` will be flipped to `True`. This limits the functions that could be executed during unpickling. Arbitrary objects will no longer be allowed to be loaded via this mode unless they are explicitly allowlisted by the user via `torch.serialization.add_safe_globals`. We recommend you start setting `weights_only=True` for any use case where you don't have full control of the loaded file. Please open an issue on GitHub for any issues related to this experimental feature.\n",
            "  vae.load_state_dict(torch.load(\"/content/drive/MyDrive/vae_model_epoch_20.pth\", map_location=device))\n"
          ]
        }
      ]
    },
    {
      "cell_type": "code",
      "source": [
        "class MDNRNN(nn.Module):\n",
        "    def __init__(self, latent_dim=64, action_dim=3, hidden_dim=512, n_gaussians=5):\n",
        "        super(MDNRNN, self).__init__()\n",
        "        self.latent_dim = latent_dim\n",
        "        self.action_dim = action_dim\n",
        "        self.hidden_dim = hidden_dim\n",
        "        self.n_gaussians = n_gaussians\n",
        "\n",
        "        self.input_dim = latent_dim + action_dim\n",
        "        self.lstm = nn.LSTM(self.input_dim, hidden_dim, batch_first=True)\n",
        "\n",
        "\n",
        "        self.fc_pi = nn.Linear(hidden_dim, n_gaussians)\n",
        "        self.fc_mu = nn.Linear(hidden_dim, n_gaussians * latent_dim)\n",
        "        self.fc_sigma = nn.Linear(hidden_dim, n_gaussians * latent_dim)\n",
        "\n",
        "    def forward(self, x, hidden=None):\n",
        "        # x -> [batch_size, seq_len, input_dim]\n",
        "        out, hidden = self.lstm(x, hidden)\n",
        "\n",
        "\n",
        "        pi = self.fc_pi(out)\n",
        "        pi = nn.functional.softmax(pi, dim=-1)\n",
        "\n",
        "        mu = self.fc_mu(out)\n",
        "        mu = mu.view(x.size(0), x.size(1), self.n_gaussians, self.latent_dim)\n",
        "        sigma = self.fc_sigma(out)\n",
        "        sigma = sigma.view(x.size(0), x.size(1), self.n_gaussians, self.latent_dim)\n",
        "        sigma = torch.exp(sigma)\n",
        "\n",
        "        return pi, mu, sigma,hidden\n"
      ],
      "metadata": {
        "id": "1e5aw2pXN1Cs"
      },
      "execution_count": null,
      "outputs": []
    },
    {
      "cell_type": "code",
      "source": [
        "def mdn_loss(pi, mu, sigma, target):\n",
        "    target = target.unsqueeze(2)\n",
        "\n",
        "\n",
        "    exponent = -0.5 * ((target - mu) / (sigma + 1e-8))**2\n",
        "    exponent = exponent.sum(dim=-1)\n",
        "\n",
        "    latent_dim = target.size(-1)\n",
        "    log_coef = -torch.log(sigma + 1e-8).sum(dim=-1) - 0.5 * latent_dim * np.log(2 * np.pi)\n",
        "\n",
        "    log_probs = log_coef + exponent\n",
        "\n",
        "    weighted_log_probs = torch.log(pi + 1e-8) + log_probs\n",
        "\n",
        "    max_log, _ = torch.max(weighted_log_probs, dim=-1, keepdim=True)\n",
        "    log_sum = max_log.squeeze(-1) + torch.log(torch.sum(torch.exp(weighted_log_probs - max_log), dim=-1))\n",
        "\n",
        "    loss = -log_sum.mean()\n",
        "\n",
        "    return loss\n"
      ],
      "metadata": {
        "id": "WL1PtXkCN3-z"
      },
      "execution_count": null,
      "outputs": []
    },
    {
      "cell_type": "code",
      "source": [
        "mse_loss = nn.MSELoss()\n",
        "class MDNRNNDataset(Dataset):\n",
        "    def __init__(self, encoded_images, actions, vae, seq_len=50):\n",
        "        self.seq_len = seq_len\n",
        "        self.sequences = []\n",
        "        print(\"Processing data to create MDN-RNN sequences...\")\n",
        "        z_list = []\n",
        "        batch_size = 64\n",
        "        with torch.no_grad():\n",
        "            for i in range(0, len(encoded_images), batch_size):\n",
        "                batch_end = min(i + batch_size, len(encoded_images))\n",
        "                batch_images = [encoded_images[j] for j in range(i, batch_end)]\n",
        "                batch_tensors = []\n",
        "                for img_bytes in batch_images:\n",
        "                    img = Image.open(io.BytesIO(img_bytes)).convert('L')\n",
        "                    img_array = np.array(img)\n",
        "                    img_array = img_array / 255.0\n",
        "                    img_tensor = torch.from_numpy(img_array).unsqueeze(0).float().to(device)\n",
        "\n",
        "                    batch_tensors.append(img_tensor)\n",
        "                batch_tensor = torch.stack(batch_tensors, dim=0)\n",
        "                mu, _ = vae.encode(batch_tensor)\n",
        "                z_list.extend(mu.cpu().numpy())\n",
        "\n",
        "                if (i+1) % 1000 == 0:\n",
        "                    print(f\"Encoded {i+1}/{len(encoded_images)} images\")\n",
        "\n",
        "        print(\"All images encoded, creating sequences...\")\n",
        "\n",
        "        total_transitions = len(z_list) - 1\n",
        "\n",
        "        for i in range(0, total_transitions - seq_len):\n",
        "            inp_seq = []\n",
        "            target_z_seq = []\n",
        "            for t in range(seq_len):\n",
        "                current_idx = i + t\n",
        "                z_t = z_list[current_idx]\n",
        "                action_t = actions[current_idx]\n",
        "                z_t_plus_1 = z_list[current_idx + 1]\n",
        "\n",
        "                inp_seq.append(np.concatenate([z_t, action_t], axis=0))\n",
        "\n",
        "                target_z_seq.append(z_t_plus_1)\n",
        "\n",
        "\n",
        "            self.sequences.append((\n",
        "                np.array(inp_seq),\n",
        "                np.array(target_z_seq),\n",
        "            ))\n",
        "\n",
        "            if (i+1) % 1000 == 0:\n",
        "                print(f\"Created {i+1}/{total_transitions - seq_len} sequences\")\n",
        "\n",
        "    def __len__(self):\n",
        "        return len(self.sequences)\n",
        "\n",
        "    def __getitem__(self, idx):\n",
        "        inp, target_z = self.sequences[idx]\n",
        "        return (\n",
        "            torch.tensor(inp, dtype=torch.float32),\n",
        "            torch.tensor(target_z, dtype=torch.float32),\n",
        "        )\n"
      ],
      "metadata": {
        "id": "Y9EhxK6_N6Pj"
      },
      "execution_count": null,
      "outputs": []
    },
    {
      "cell_type": "code",
      "source": [
        "import io\n",
        "from PIL import Image"
      ],
      "metadata": {
        "id": "HGG2jsmJRWi5"
      },
      "execution_count": null,
      "outputs": []
    },
    {
      "cell_type": "code",
      "source": [
        "mdn_rnn = MDNRNN().to(device)\n",
        "optimizer = optim.Adam(mdn_rnn.parameters(), lr=1e-3)\n",
        "print(\"MDN-RNN model initialized.\")\n",
        "\n",
        "print(\"Creating MDN-RNN dataset...\")\n",
        "dataset = MDNRNNDataset(\n",
        "    encoded_images=all_images_array,\n",
        "    actions=all_actions_array,\n",
        "    vae=vae,\n",
        "    seq_len=50\n",
        ")"
      ],
      "metadata": {
        "colab": {
          "base_uri": "https://localhost:8080/"
        },
        "id": "vTuSqKMKOAC7",
        "outputId": "3f124901-dcfb-44f5-85ec-6133340d3a50"
      },
      "execution_count": null,
      "outputs": [
        {
          "output_type": "stream",
          "name": "stdout",
          "text": [
            "MDN-RNN model initialized.\n",
            "Creating MDN-RNN dataset...\n",
            "Processing data to create MDN-RNN sequences...\n",
            "All images encoded, creating sequences...\n",
            "Created 1000/39020 sequences\n",
            "Created 2000/39020 sequences\n",
            "Created 3000/39020 sequences\n",
            "Created 4000/39020 sequences\n",
            "Created 5000/39020 sequences\n",
            "Created 6000/39020 sequences\n",
            "Created 7000/39020 sequences\n",
            "Created 8000/39020 sequences\n",
            "Created 9000/39020 sequences\n",
            "Created 10000/39020 sequences\n",
            "Created 11000/39020 sequences\n",
            "Created 12000/39020 sequences\n",
            "Created 13000/39020 sequences\n",
            "Created 14000/39020 sequences\n",
            "Created 15000/39020 sequences\n",
            "Created 16000/39020 sequences\n",
            "Created 17000/39020 sequences\n",
            "Created 18000/39020 sequences\n",
            "Created 19000/39020 sequences\n",
            "Created 20000/39020 sequences\n",
            "Created 21000/39020 sequences\n",
            "Created 22000/39020 sequences\n",
            "Created 23000/39020 sequences\n",
            "Created 24000/39020 sequences\n",
            "Created 25000/39020 sequences\n",
            "Created 26000/39020 sequences\n",
            "Created 27000/39020 sequences\n",
            "Created 28000/39020 sequences\n",
            "Created 29000/39020 sequences\n",
            "Created 30000/39020 sequences\n",
            "Created 31000/39020 sequences\n",
            "Created 32000/39020 sequences\n",
            "Created 33000/39020 sequences\n",
            "Created 34000/39020 sequences\n",
            "Created 35000/39020 sequences\n",
            "Created 36000/39020 sequences\n",
            "Created 37000/39020 sequences\n",
            "Created 38000/39020 sequences\n",
            "Created 39000/39020 sequences\n"
          ]
        }
      ]
    },
    {
      "cell_type": "code",
      "source": [
        "dataloader = DataLoader(dataset, batch_size=32, shuffle=True)\n",
        "print(f\"MDN-RNN dataset prepared. Total sequences: {len(dataset)}\")\n",
        "\n",
        "epochs = 50\n",
        "losses = []\n",
        "mdn_rnn.train()\n",
        "\n",
        "print(\"Starting MDN-RNN training...\")\n",
        "for epoch in range(1, epochs+1):\n",
        "    total_loss = 0\n",
        "    progress_bar = tqdm(dataloader, desc=f\"Epoch {epoch}/{epochs}\")\n",
        "\n",
        "    for inp, target_z in progress_bar:\n",
        "        inp = inp.to(device)           # [batch, seq_len, latent_dim + action_dim]\n",
        "        target_z = target_z.to(device) # [batch, seq_len, latent_dim]\n",
        "        optimizer.zero_grad()\n",
        "        pi, mu, sigma, _ = mdn_rnn(inp)\n",
        "        loss = mdn_loss(pi, mu, sigma, target_z)\n",
        "        loss.backward()\n",
        "        optimizer.step()\n",
        "\n",
        "        total_loss += loss.item()\n",
        "        progress_bar.set_postfix({\"loss\": loss.item()})\n",
        "\n",
        "    avg_loss = total_loss / len(dataloader)\n",
        "    losses.append(avg_loss)\n",
        "\n",
        "    print(f\"Epoch {epoch}/{epochs}, Average Loss: {avg_loss:.4f}\")\n",
        "\n",
        "    if epoch % 5 == 0:\n",
        "        torch.save(mdn_rnn.state_dict(), f\"/content/drive/MyDrive/mdn_rnn_carla_epoch_{epoch}.pth\")\n",
        "        print(f\"Model saved at epoch {epoch}\")\n",
        "\n",
        "torch.save(mdn_rnn.state_dict(), \"/content/drive/MyDrive/mdn_rnn_carla_final.pth\")\n",
        "print(\"MDN-RNN model training completed and saved!\")\n",
        "\n",
        "np.save(\"/content/drive/MyDrive/mdn_rnn_training_losses.npy\", np.array(losses))\n",
        "print(\"Training losses saved for analysis\")\n"
      ],
      "metadata": {
        "colab": {
          "base_uri": "https://localhost:8080/"
        },
        "id": "Q9opp8x_OG2D",
        "outputId": "73863804-4067-4255-9054-f2de4ad1e717"
      },
      "execution_count": null,
      "outputs": [
        {
          "output_type": "stream",
          "name": "stdout",
          "text": [
            "MDN-RNN dataset prepared. Total sequences: 39020\n",
            "Starting MDN-RNN training...\n"
          ]
        },
        {
          "output_type": "stream",
          "name": "stderr",
          "text": [
            "Epoch 1/50: 100%|██████████| 1220/1220 [00:14<00:00, 85.30it/s, loss=-62.5]\n"
          ]
        },
        {
          "output_type": "stream",
          "name": "stdout",
          "text": [
            "Epoch 1/50, Average Loss: -31.0303\n"
          ]
        },
        {
          "output_type": "stream",
          "name": "stderr",
          "text": [
            "Epoch 2/50: 100%|██████████| 1220/1220 [00:13<00:00, 88.32it/s, loss=-67.3]\n"
          ]
        },
        {
          "output_type": "stream",
          "name": "stdout",
          "text": [
            "Epoch 2/50, Average Loss: -60.3835\n"
          ]
        },
        {
          "output_type": "stream",
          "name": "stderr",
          "text": [
            "Epoch 3/50: 100%|██████████| 1220/1220 [00:13<00:00, 87.95it/s, loss=-70.2]\n"
          ]
        },
        {
          "output_type": "stream",
          "name": "stdout",
          "text": [
            "Epoch 3/50, Average Loss: -66.7970\n"
          ]
        },
        {
          "output_type": "stream",
          "name": "stderr",
          "text": [
            "Epoch 4/50: 100%|██████████| 1220/1220 [00:13<00:00, 88.30it/s, loss=-63.1]\n"
          ]
        },
        {
          "output_type": "stream",
          "name": "stdout",
          "text": [
            "Epoch 4/50, Average Loss: -71.2310\n"
          ]
        },
        {
          "output_type": "stream",
          "name": "stderr",
          "text": [
            "Epoch 5/50: 100%|██████████| 1220/1220 [00:13<00:00, 88.27it/s, loss=-81.1]\n"
          ]
        },
        {
          "output_type": "stream",
          "name": "stdout",
          "text": [
            "Epoch 5/50, Average Loss: -74.4895\n",
            "Model saved at epoch 5\n"
          ]
        },
        {
          "output_type": "stream",
          "name": "stderr",
          "text": [
            "Epoch 6/50: 100%|██████████| 1220/1220 [00:13<00:00, 89.01it/s, loss=-79.1]\n"
          ]
        },
        {
          "output_type": "stream",
          "name": "stdout",
          "text": [
            "Epoch 6/50, Average Loss: -77.4729\n"
          ]
        },
        {
          "output_type": "stream",
          "name": "stderr",
          "text": [
            "Epoch 7/50: 100%|██████████| 1220/1220 [00:13<00:00, 88.24it/s, loss=-70.6]\n"
          ]
        },
        {
          "output_type": "stream",
          "name": "stdout",
          "text": [
            "Epoch 7/50, Average Loss: -80.1217\n"
          ]
        },
        {
          "output_type": "stream",
          "name": "stderr",
          "text": [
            "Epoch 8/50: 100%|██████████| 1220/1220 [00:13<00:00, 87.41it/s, loss=-80.3]\n"
          ]
        },
        {
          "output_type": "stream",
          "name": "stdout",
          "text": [
            "Epoch 8/50, Average Loss: -82.4004\n"
          ]
        },
        {
          "output_type": "stream",
          "name": "stderr",
          "text": [
            "Epoch 9/50: 100%|██████████| 1220/1220 [00:13<00:00, 88.12it/s, loss=-84.9]\n"
          ]
        },
        {
          "output_type": "stream",
          "name": "stdout",
          "text": [
            "Epoch 9/50, Average Loss: -84.4993\n"
          ]
        },
        {
          "output_type": "stream",
          "name": "stderr",
          "text": [
            "Epoch 10/50: 100%|██████████| 1220/1220 [00:13<00:00, 87.95it/s, loss=-86.6]\n"
          ]
        },
        {
          "output_type": "stream",
          "name": "stdout",
          "text": [
            "Epoch 10/50, Average Loss: -86.3451\n",
            "Model saved at epoch 10\n"
          ]
        },
        {
          "output_type": "stream",
          "name": "stderr",
          "text": [
            "Epoch 11/50: 100%|██████████| 1220/1220 [00:13<00:00, 87.68it/s, loss=-93.4]\n"
          ]
        },
        {
          "output_type": "stream",
          "name": "stdout",
          "text": [
            "Epoch 11/50, Average Loss: -88.1108\n"
          ]
        },
        {
          "output_type": "stream",
          "name": "stderr",
          "text": [
            "Epoch 12/50: 100%|██████████| 1220/1220 [00:13<00:00, 88.88it/s, loss=-101]\n"
          ]
        },
        {
          "output_type": "stream",
          "name": "stdout",
          "text": [
            "Epoch 12/50, Average Loss: -89.4288\n"
          ]
        },
        {
          "output_type": "stream",
          "name": "stderr",
          "text": [
            "Epoch 13/50: 100%|██████████| 1220/1220 [00:13<00:00, 87.49it/s, loss=-101]\n"
          ]
        },
        {
          "output_type": "stream",
          "name": "stdout",
          "text": [
            "Epoch 13/50, Average Loss: -90.6780\n"
          ]
        },
        {
          "output_type": "stream",
          "name": "stderr",
          "text": [
            "Epoch 14/50: 100%|██████████| 1220/1220 [00:14<00:00, 85.94it/s, loss=-104]\n"
          ]
        },
        {
          "output_type": "stream",
          "name": "stdout",
          "text": [
            "Epoch 14/50, Average Loss: -92.0253\n"
          ]
        },
        {
          "output_type": "stream",
          "name": "stderr",
          "text": [
            "Epoch 15/50: 100%|██████████| 1220/1220 [00:14<00:00, 86.66it/s, loss=-87.8]\n"
          ]
        },
        {
          "output_type": "stream",
          "name": "stdout",
          "text": [
            "Epoch 15/50, Average Loss: -93.4664\n",
            "Model saved at epoch 15\n"
          ]
        },
        {
          "output_type": "stream",
          "name": "stderr",
          "text": [
            "Epoch 16/50: 100%|██████████| 1220/1220 [00:14<00:00, 85.66it/s, loss=-96.8]\n"
          ]
        },
        {
          "output_type": "stream",
          "name": "stdout",
          "text": [
            "Epoch 16/50, Average Loss: -94.4246\n"
          ]
        },
        {
          "output_type": "stream",
          "name": "stderr",
          "text": [
            "Epoch 17/50: 100%|██████████| 1220/1220 [00:14<00:00, 85.08it/s, loss=-81.4]\n"
          ]
        },
        {
          "output_type": "stream",
          "name": "stdout",
          "text": [
            "Epoch 17/50, Average Loss: -95.3834\n"
          ]
        },
        {
          "output_type": "stream",
          "name": "stderr",
          "text": [
            "Epoch 18/50: 100%|██████████| 1220/1220 [00:14<00:00, 85.84it/s, loss=-98.1]\n"
          ]
        },
        {
          "output_type": "stream",
          "name": "stdout",
          "text": [
            "Epoch 18/50, Average Loss: -96.3210\n"
          ]
        },
        {
          "output_type": "stream",
          "name": "stderr",
          "text": [
            "Epoch 19/50: 100%|██████████| 1220/1220 [00:13<00:00, 87.91it/s, loss=-110]\n"
          ]
        },
        {
          "output_type": "stream",
          "name": "stdout",
          "text": [
            "Epoch 19/50, Average Loss: -96.9855\n"
          ]
        },
        {
          "output_type": "stream",
          "name": "stderr",
          "text": [
            "Epoch 20/50: 100%|██████████| 1220/1220 [00:14<00:00, 82.84it/s, loss=-100]\n"
          ]
        },
        {
          "output_type": "stream",
          "name": "stdout",
          "text": [
            "Epoch 20/50, Average Loss: -98.0172\n",
            "Model saved at epoch 20\n"
          ]
        },
        {
          "output_type": "stream",
          "name": "stderr",
          "text": [
            "Epoch 21/50: 100%|██████████| 1220/1220 [00:14<00:00, 86.63it/s, loss=-98.7]\n"
          ]
        },
        {
          "output_type": "stream",
          "name": "stdout",
          "text": [
            "Epoch 21/50, Average Loss: -98.6669\n"
          ]
        },
        {
          "output_type": "stream",
          "name": "stderr",
          "text": [
            "Epoch 22/50: 100%|██████████| 1220/1220 [00:14<00:00, 85.99it/s, loss=-108]\n"
          ]
        },
        {
          "output_type": "stream",
          "name": "stdout",
          "text": [
            "Epoch 22/50, Average Loss: -99.4920\n"
          ]
        },
        {
          "output_type": "stream",
          "name": "stderr",
          "text": [
            "Epoch 23/50: 100%|██████████| 1220/1220 [00:14<00:00, 83.31it/s, loss=-97.9]\n"
          ]
        },
        {
          "output_type": "stream",
          "name": "stdout",
          "text": [
            "Epoch 23/50, Average Loss: -100.1818\n"
          ]
        },
        {
          "output_type": "stream",
          "name": "stderr",
          "text": [
            "Epoch 24/50: 100%|██████████| 1220/1220 [00:14<00:00, 85.85it/s, loss=-109]\n"
          ]
        },
        {
          "output_type": "stream",
          "name": "stdout",
          "text": [
            "Epoch 24/50, Average Loss: -100.7524\n"
          ]
        },
        {
          "output_type": "stream",
          "name": "stderr",
          "text": [
            "Epoch 25/50: 100%|██████████| 1220/1220 [00:14<00:00, 86.50it/s, loss=-106]\n"
          ]
        },
        {
          "output_type": "stream",
          "name": "stdout",
          "text": [
            "Epoch 25/50, Average Loss: -101.1473\n",
            "Model saved at epoch 25\n"
          ]
        },
        {
          "output_type": "stream",
          "name": "stderr",
          "text": [
            "Epoch 26/50: 100%|██████████| 1220/1220 [00:14<00:00, 87.14it/s, loss=-111]\n"
          ]
        },
        {
          "output_type": "stream",
          "name": "stdout",
          "text": [
            "Epoch 26/50, Average Loss: -101.7238\n"
          ]
        },
        {
          "output_type": "stream",
          "name": "stderr",
          "text": [
            "Epoch 27/50: 100%|██████████| 1220/1220 [00:14<00:00, 86.75it/s, loss=-99.3]\n"
          ]
        },
        {
          "output_type": "stream",
          "name": "stdout",
          "text": [
            "Epoch 27/50, Average Loss: -102.3385\n"
          ]
        },
        {
          "output_type": "stream",
          "name": "stderr",
          "text": [
            "Epoch 28/50: 100%|██████████| 1220/1220 [00:13<00:00, 87.47it/s, loss=-98.3]\n"
          ]
        },
        {
          "output_type": "stream",
          "name": "stdout",
          "text": [
            "Epoch 28/50, Average Loss: -102.6657\n"
          ]
        },
        {
          "output_type": "stream",
          "name": "stderr",
          "text": [
            "Epoch 29/50: 100%|██████████| 1220/1220 [00:14<00:00, 86.66it/s, loss=-97.6]\n"
          ]
        },
        {
          "output_type": "stream",
          "name": "stdout",
          "text": [
            "Epoch 29/50, Average Loss: -103.3412\n"
          ]
        },
        {
          "output_type": "stream",
          "name": "stderr",
          "text": [
            "Epoch 30/50: 100%|██████████| 1220/1220 [00:13<00:00, 87.34it/s, loss=-111]\n"
          ]
        },
        {
          "output_type": "stream",
          "name": "stdout",
          "text": [
            "Epoch 30/50, Average Loss: -103.6410\n",
            "Model saved at epoch 30\n"
          ]
        },
        {
          "output_type": "stream",
          "name": "stderr",
          "text": [
            "Epoch 31/50: 100%|██████████| 1220/1220 [00:14<00:00, 86.60it/s, loss=-107]\n"
          ]
        },
        {
          "output_type": "stream",
          "name": "stdout",
          "text": [
            "Epoch 31/50, Average Loss: -103.9409\n"
          ]
        },
        {
          "output_type": "stream",
          "name": "stderr",
          "text": [
            "Epoch 32/50: 100%|██████████| 1220/1220 [00:13<00:00, 87.29it/s, loss=-105]\n"
          ]
        },
        {
          "output_type": "stream",
          "name": "stdout",
          "text": [
            "Epoch 32/50, Average Loss: -104.6599\n"
          ]
        },
        {
          "output_type": "stream",
          "name": "stderr",
          "text": [
            "Epoch 33/50: 100%|██████████| 1220/1220 [00:13<00:00, 87.22it/s, loss=-110]\n"
          ]
        },
        {
          "output_type": "stream",
          "name": "stdout",
          "text": [
            "Epoch 33/50, Average Loss: -104.9825\n"
          ]
        },
        {
          "output_type": "stream",
          "name": "stderr",
          "text": [
            "Epoch 34/50: 100%|██████████| 1220/1220 [00:14<00:00, 86.68it/s, loss=-99.1]\n"
          ]
        },
        {
          "output_type": "stream",
          "name": "stdout",
          "text": [
            "Epoch 34/50, Average Loss: -105.4282\n"
          ]
        },
        {
          "output_type": "stream",
          "name": "stderr",
          "text": [
            "Epoch 35/50: 100%|██████████| 1220/1220 [00:13<00:00, 87.19it/s, loss=-100]\n"
          ]
        },
        {
          "output_type": "stream",
          "name": "stdout",
          "text": [
            "Epoch 35/50, Average Loss: -105.5724\n",
            "Model saved at epoch 35\n"
          ]
        },
        {
          "output_type": "stream",
          "name": "stderr",
          "text": [
            "Epoch 36/50: 100%|██████████| 1220/1220 [00:14<00:00, 85.76it/s, loss=-117]\n"
          ]
        },
        {
          "output_type": "stream",
          "name": "stdout",
          "text": [
            "Epoch 36/50, Average Loss: -106.0149\n"
          ]
        },
        {
          "output_type": "stream",
          "name": "stderr",
          "text": [
            "Epoch 37/50: 100%|██████████| 1220/1220 [00:14<00:00, 86.51it/s, loss=-91.7]\n"
          ]
        },
        {
          "output_type": "stream",
          "name": "stdout",
          "text": [
            "Epoch 37/50, Average Loss: -106.3508\n"
          ]
        },
        {
          "output_type": "stream",
          "name": "stderr",
          "text": [
            "Epoch 38/50: 100%|██████████| 1220/1220 [00:14<00:00, 85.74it/s, loss=-105]\n"
          ]
        },
        {
          "output_type": "stream",
          "name": "stdout",
          "text": [
            "Epoch 38/50, Average Loss: -106.6222\n"
          ]
        },
        {
          "output_type": "stream",
          "name": "stderr",
          "text": [
            "Epoch 39/50: 100%|██████████| 1220/1220 [00:14<00:00, 84.85it/s, loss=-115]\n"
          ]
        },
        {
          "output_type": "stream",
          "name": "stdout",
          "text": [
            "Epoch 39/50, Average Loss: -107.0898\n"
          ]
        },
        {
          "output_type": "stream",
          "name": "stderr",
          "text": [
            "Epoch 40/50: 100%|██████████| 1220/1220 [00:14<00:00, 85.73it/s, loss=-126]\n"
          ]
        },
        {
          "output_type": "stream",
          "name": "stdout",
          "text": [
            "Epoch 40/50, Average Loss: -107.3788\n",
            "Model saved at epoch 40\n"
          ]
        },
        {
          "output_type": "stream",
          "name": "stderr",
          "text": [
            "Epoch 41/50: 100%|██████████| 1220/1220 [00:14<00:00, 85.20it/s, loss=-105]\n"
          ]
        },
        {
          "output_type": "stream",
          "name": "stdout",
          "text": [
            "Epoch 41/50, Average Loss: -107.4847\n"
          ]
        },
        {
          "output_type": "stream",
          "name": "stderr",
          "text": [
            "Epoch 42/50: 100%|██████████| 1220/1220 [00:14<00:00, 86.01it/s, loss=-98.1]\n"
          ]
        },
        {
          "output_type": "stream",
          "name": "stdout",
          "text": [
            "Epoch 42/50, Average Loss: -107.7644\n"
          ]
        },
        {
          "output_type": "stream",
          "name": "stderr",
          "text": [
            "Epoch 43/50: 100%|██████████| 1220/1220 [00:14<00:00, 86.05it/s, loss=-111]\n"
          ]
        },
        {
          "output_type": "stream",
          "name": "stdout",
          "text": [
            "Epoch 43/50, Average Loss: -108.1559\n"
          ]
        },
        {
          "output_type": "stream",
          "name": "stderr",
          "text": [
            "Epoch 44/50: 100%|██████████| 1220/1220 [00:14<00:00, 85.92it/s, loss=-104]\n"
          ]
        },
        {
          "output_type": "stream",
          "name": "stdout",
          "text": [
            "Epoch 44/50, Average Loss: -108.2024\n"
          ]
        },
        {
          "output_type": "stream",
          "name": "stderr",
          "text": [
            "Epoch 45/50: 100%|██████████| 1220/1220 [00:14<00:00, 85.69it/s, loss=-112]\n"
          ]
        },
        {
          "output_type": "stream",
          "name": "stdout",
          "text": [
            "Epoch 45/50, Average Loss: -108.8161\n",
            "Model saved at epoch 45\n"
          ]
        },
        {
          "output_type": "stream",
          "name": "stderr",
          "text": [
            "Epoch 46/50: 100%|██████████| 1220/1220 [00:14<00:00, 85.77it/s, loss=-95.1]\n"
          ]
        },
        {
          "output_type": "stream",
          "name": "stdout",
          "text": [
            "Epoch 46/50, Average Loss: -108.9436\n"
          ]
        },
        {
          "output_type": "stream",
          "name": "stderr",
          "text": [
            "Epoch 47/50: 100%|██████████| 1220/1220 [00:13<00:00, 87.17it/s, loss=-114]\n"
          ]
        },
        {
          "output_type": "stream",
          "name": "stdout",
          "text": [
            "Epoch 47/50, Average Loss: -108.9914\n"
          ]
        },
        {
          "output_type": "stream",
          "name": "stderr",
          "text": [
            "Epoch 48/50: 100%|██████████| 1220/1220 [00:13<00:00, 87.36it/s, loss=-113]\n"
          ]
        },
        {
          "output_type": "stream",
          "name": "stdout",
          "text": [
            "Epoch 48/50, Average Loss: -109.6498\n"
          ]
        },
        {
          "output_type": "stream",
          "name": "stderr",
          "text": [
            "Epoch 49/50: 100%|██████████| 1220/1220 [00:14<00:00, 86.46it/s, loss=-110]\n"
          ]
        },
        {
          "output_type": "stream",
          "name": "stdout",
          "text": [
            "Epoch 49/50, Average Loss: -109.6310\n"
          ]
        },
        {
          "output_type": "stream",
          "name": "stderr",
          "text": [
            "Epoch 50/50: 100%|██████████| 1220/1220 [00:13<00:00, 87.56it/s, loss=-122]\n"
          ]
        },
        {
          "output_type": "stream",
          "name": "stdout",
          "text": [
            "Epoch 50/50, Average Loss: -109.7382\n",
            "Model saved at epoch 50\n",
            "MDN-RNN model training completed and saved!\n",
            "Training losses saved for analysis\n"
          ]
        }
      ]
    },
    {
      "cell_type": "code",
      "source": [
        "import matplotlib.pyplot as plt\n",
        "plt.figure(figsize=(10, 6))\n",
        "plt.plot(losses)\n",
        "plt.title('MDN-RNN Training Loss')\n",
        "plt.xlabel('Epoch')\n",
        "plt.ylabel('Loss')\n",
        "plt.grid(True)\n",
        "plt.savefig(\"/content/drive/MyDrive/mdn_rnn_training_curve.png\")\n",
        "plt.show()"
      ],
      "metadata": {
        "colab": {
          "base_uri": "https://localhost:8080/",
          "height": 564
        },
        "id": "HEh7NBhIOOHS",
        "outputId": "5b217774-4fc2-499f-e28e-369e9f66391d"
      },
      "execution_count": null,
      "outputs": [
        {
          "output_type": "display_data",
          "data": {
            "text/plain": [
              "<Figure size 1000x600 with 1 Axes>"
            ],
            "image/png": "[encoded data removed]"
          },
          "metadata": {}
        }
      ]
    },
    {
      "cell_type": "code",
      "source": [],
      "metadata": {
        "id": "qFSa1Dh4YuMc"
      },
      "execution_count": null,
      "outputs": []
    }
  ]
}