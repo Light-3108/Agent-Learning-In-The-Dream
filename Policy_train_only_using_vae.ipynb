{
  "nbformat": 4,
  "nbformat_minor": 0,
  "metadata": {
    "colab": {
      "provenance": [],
      "gpuType": "T4"
    },
    "kernelspec": {
      "name": "python3",
      "display_name": "Python 3"
    },
    "language_info": {
      "name": "python"
    },
    "accelerator": "GPU"
  },
  "cells": [
    {
      "cell_type": "code",
      "execution_count": null,
      "metadata": {
        "colab": {
          "base_uri": "https://localhost:8080/"
        },
        "id": "6qXEIXi96bRL",
        "outputId": "e17997d0-110c-4f2a-8db2-7199d4f1e25e"
      },
      "outputs": [
        {
          "output_type": "stream",
          "name": "stdout",
          "text": [
            "Mounted at /content/drive\n"
          ]
        }
      ],
      "source": [
        "import torch\n",
        "import torch.nn as nn\n",
        "import torch.optim as optim\n",
        "import numpy as np\n",
        "import random\n",
        "from collections import deque\n",
        "from google.colab import drive\n",
        "import gymnasium as gym\n",
        "import cv2\n",
        "import matplotlib.pyplot as plt\n",
        "\n",
        "drive.mount('/content/drive')"
      ]
    },
    {
      "cell_type": "code",
      "source": [
        "!pip install gymnasium"
      ],
      "metadata": {
        "colab": {
          "base_uri": "https://localhost:8080/"
        },
        "id": "iZLijQxAA4fd",
        "outputId": "654b8a16-9db8-46bd-9d6c-52ff3b201e25"
      },
      "execution_count": null,
      "outputs": [
        {
          "output_type": "stream",
          "name": "stdout",
          "text": [
            "Requirement already satisfied: gymnasium in /usr/local/lib/python3.11/dist-packages (1.0.0)\n",
            "Requirement already satisfied: numpy>=1.21.0 in /usr/local/lib/python3.11/dist-packages (from gymnasium) (1.26.4)\n",
            "Requirement already satisfied: cloudpickle>=1.2.0 in /usr/local/lib/python3.11/dist-packages (from gymnasium) (3.1.1)\n",
            "Requirement already satisfied: typing-extensions>=4.3.0 in /usr/local/lib/python3.11/dist-packages (from gymnasium) (4.12.2)\n",
            "Requirement already satisfied: farama-notifications>=0.0.1 in /usr/local/lib/python3.11/dist-packages (from gymnasium) (0.0.4)\n"
          ]
        }
      ]
    },
    {
      "cell_type": "code",
      "source": [
        "!pip install swig\n",
        "!pip install gymnasium[box2d]"
      ],
      "metadata": {
        "colab": {
          "base_uri": "https://localhost:8080/"
        },
        "id": "3LiyZ76rBJtd",
        "outputId": "074902a6-c24c-4430-e46b-77f0a7f4cbcf"
      },
      "execution_count": null,
      "outputs": [
        {
          "output_type": "stream",
          "name": "stdout",
          "text": [
            "Collecting swig\n",
            "  Downloading swig-4.3.0-py2.py3-none-manylinux_2_5_x86_64.manylinux1_x86_64.whl.metadata (3.5 kB)\n",
            "Downloading swig-4.3.0-py2.py3-none-manylinux_2_5_x86_64.manylinux1_x86_64.whl (1.9 MB)\n",
            "\u001b[?25l   \u001b[90m━━━━━━━━━━━━━━━━━━━━━━━━━━━━━━━━━━━━━━━━\u001b[0m \u001b[32m0.0/1.9 MB\u001b[0m \u001b[31m?\u001b[0m eta \u001b[36m-:--:--\u001b[0m\r\u001b[2K   \u001b[91m━━━━━━━━━━━━━━━━━━━━━━━━━━━━━━━━━\u001b[0m\u001b[91m╸\u001b[0m\u001b[90m━━━━━━\u001b[0m \u001b[32m1.6/1.9 MB\u001b[0m \u001b[31m49.0 MB/s\u001b[0m eta \u001b[36m0:00:01\u001b[0m\r\u001b[2K   \u001b[90m━━━━━━━━━━━━━━━━━━━━━━━━━━━━━━━━━━━━━━━━\u001b[0m \u001b[32m1.9/1.9 MB\u001b[0m \u001b[31m29.9 MB/s\u001b[0m eta \u001b[36m0:00:00\u001b[0m\n",
            "\u001b[?25hInstalling collected packages: swig\n",
            "Successfully installed swig-4.3.0\n",
            "Requirement already satisfied: gymnasium[box2d] in /usr/local/lib/python3.11/dist-packages (1.0.0)\n",
            "Requirement already satisfied: numpy>=1.21.0 in /usr/local/lib/python3.11/dist-packages (from gymnasium[box2d]) (1.26.4)\n",
            "Requirement already satisfied: cloudpickle>=1.2.0 in /usr/local/lib/python3.11/dist-packages (from gymnasium[box2d]) (3.1.1)\n",
            "Requirement already satisfied: typing-extensions>=4.3.0 in /usr/local/lib/python3.11/dist-packages (from gymnasium[box2d]) (4.12.2)\n",
            "Requirement already satisfied: farama-notifications>=0.0.1 in /usr/local/lib/python3.11/dist-packages (from gymnasium[box2d]) (0.0.4)\n",
            "Collecting box2d-py==2.3.5 (from gymnasium[box2d])\n",
            "  Downloading box2d-py-2.3.5.tar.gz (374 kB)\n",
            "\u001b[2K     \u001b[90m━━━━━━━━━━━━━━━━━━━━━━━━━━━━━━━━━━━━━━━━\u001b[0m \u001b[32m374.4/374.4 kB\u001b[0m \u001b[31m18.6 MB/s\u001b[0m eta \u001b[36m0:00:00\u001b[0m\n",
            "\u001b[?25h  Preparing metadata (setup.py) ... \u001b[?25l\u001b[?25hdone\n",
            "Requirement already satisfied: pygame>=2.1.3 in /usr/local/lib/python3.11/dist-packages (from gymnasium[box2d]) (2.6.1)\n",
            "Requirement already satisfied: swig==4.* in /usr/local/lib/python3.11/dist-packages (from gymnasium[box2d]) (4.3.0)\n",
            "Building wheels for collected packages: box2d-py\n",
            "  Building wheel for box2d-py (setup.py) ... \u001b[?25l\u001b[?25hdone\n",
            "  Created wheel for box2d-py: filename=box2d_py-2.3.5-cp311-cp311-linux_x86_64.whl size=2379445 sha256=35493ef967251e9cb9f948a4537b86e0f5846dc171a48a23931acf94889e8985\n",
            "  Stored in directory: /root/.cache/pip/wheels/ab/f1/0c/d56f4a2bdd12bae0a0693ec33f2f0daadb5eb9753c78fa5308\n",
            "Successfully built box2d-py\n",
            "Installing collected packages: box2d-py\n",
            "Successfully installed box2d-py-2.3.5\n"
          ]
        }
      ]
    },
    {
      "cell_type": "code",
      "source": [
        "class VAE(nn.Module):\n",
        "    def __init__(self, latent_dim):\n",
        "        super(VAE, self).__init__()\n",
        "        self.encoder = nn.Sequential(\n",
        "            nn.Conv2d(1, 32, kernel_size=4, stride=2, padding=1),   # -> [32, 32, 32]\n",
        "            nn.ReLU(),\n",
        "            nn.Conv2d(32, 64, kernel_size=4, stride=2, padding=1),    # -> [64, 16, 16]\n",
        "            nn.ReLU(),\n",
        "            nn.Conv2d(64, 128, kernel_size=4, stride=2, padding=1),   # -> [128, 8, 8]\n",
        "            nn.ReLU(),\n",
        "            nn.Conv2d(128, 256, kernel_size=4, stride=2, padding=1),  # -> [256, 4, 4]\n",
        "            nn.ReLU()\n",
        "        )\n",
        "        self.fc_mu = nn.Linear(256 * 4 * 4, latent_dim)\n",
        "        self.fc_logvar = nn.Linear(256 * 4 * 4, latent_dim)\n",
        "\n",
        "        self.reward_head = nn.Sequential(\n",
        "            nn.Linear(latent_dim, 64),\n",
        "            nn.ReLU(),\n",
        "            nn.Linear(64, 1)\n",
        "        )\n",
        "\n",
        "        # Decoder\n",
        "        self.fc_decode = nn.Linear(latent_dim, 256 * 4 * 4)\n",
        "        self.decoder = nn.Sequential(\n",
        "            nn.ConvTranspose2d(256, 128, kernel_size=4, stride=2, padding=1), # -> [128, 8, 8]\n",
        "            nn.ReLU(),\n",
        "            nn.ConvTranspose2d(128, 64, kernel_size=4, stride=2, padding=1),  # -> [64, 16, 16]\n",
        "            nn.ReLU(),\n",
        "            nn.ConvTranspose2d(64, 32, kernel_size=4, stride=2, padding=1),   # -> [32, 32, 32]\n",
        "            nn.ReLU(),\n",
        "            nn.ConvTranspose2d(32, 1, kernel_size=4, stride=2, padding=1),    # -> [1, 64, 64]\n",
        "            nn.Sigmoid()\n",
        "        )\n",
        "\n",
        "    def encode(self, x):\n",
        "        x = self.encoder(x)\n",
        "        x = x.view(x.size(0), -1)\n",
        "        mu = self.fc_mu(x)\n",
        "        logvar = self.fc_logvar(x)\n",
        "        return mu, logvar\n",
        "\n",
        "    def reparameterize(self, mu, logvar):\n",
        "        std = torch.exp(0.5 * logvar)  # standard deviation\n",
        "        eps = torch.randn_like(std)    # sample from N(0,1)\n",
        "        return mu + std * eps          # z = mu + sigma * epsilon\n",
        "\n",
        "    def decode(self, z):\n",
        "        x = self.fc_decode(z)\n",
        "        x = x.view(-1, 256, 4, 4)\n",
        "        x = self.decoder(x)\n",
        "        return x\n",
        "\n",
        "    def forward(self, x):\n",
        "        mu, logvar = self.encode(x)\n",
        "        z = self.reparameterize(mu, logvar)\n",
        "        x_recon = self.decode(z)\n",
        "        reward_pred = self.reward_head(z)\n",
        "        return x_recon, mu, logvar, reward_pred"
      ],
      "metadata": {
        "id": "YBEKgyJL6kzN"
      },
      "execution_count": null,
      "outputs": []
    },
    {
      "cell_type": "code",
      "source": [
        "device = torch.device(\"cuda\" if torch.cuda.is_available() else \"cpu\")"
      ],
      "metadata": {
        "id": "waLQoq-L9Wnd"
      },
      "execution_count": null,
      "outputs": []
    },
    {
      "cell_type": "code",
      "source": [
        "latent_dim = 32\n",
        "vae = VAE(latent_dim).to(device)\n",
        "vae.load_state_dict(torch.load(\"/content/drive/MyDrive/vae_car_racing_newloss2.pth\", map_location=device))\n",
        "vae.eval()\n",
        "print(\"VAE loaded.\")"
      ],
      "metadata": {
        "colab": {
          "base_uri": "https://localhost:8080/"
        },
        "id": "UOkwHujS6w-1",
        "outputId": "27964509-2809-4c02-c493-9a3fc2de35b2"
      },
      "execution_count": null,
      "outputs": [
        {
          "output_type": "stream",
          "name": "stderr",
          "text": [
            "<ipython-input-6-8b7ece458292>:3: FutureWarning: You are using `torch.load` with `weights_only=False` (the current default value), which uses the default pickle module implicitly. It is possible to construct malicious pickle data which will execute arbitrary code during unpickling (See https://github.com/pytorch/pytorch/blob/main/SECURITY.md#untrusted-models for more details). In a future release, the default value for `weights_only` will be flipped to `True`. This limits the functions that could be executed during unpickling. Arbitrary objects will no longer be allowed to be loaded via this mode unless they are explicitly allowlisted by the user via `torch.serialization.add_safe_globals`. We recommend you start setting `weights_only=True` for any use case where you don't have full control of the loaded file. Please open an issue on GitHub for any issues related to this experimental feature.\n",
            "  vae.load_state_dict(torch.load(\"/content/drive/MyDrive/vae_car_racing.pth\", map_location=device))\n"
          ]
        },
        {
          "output_type": "stream",
          "name": "stdout",
          "text": [
            "VAE loaded.\n"
          ]
        }
      ]
    },
    {
      "cell_type": "code",
      "source": [
        "\n",
        "DISCRETE_ACTIONS = [\n",
        "    np.array([0.0, 0.8, 0.0]),\n",
        "    np.array([-0.4, 0.8, 0.0]),\n",
        "    np.array([-0.6, 0.6, 0.0]),\n",
        "    np.array([-0.8, 0.4, 0.0]),\n",
        "    np.array([0.4, 0.8, 0.0]),\n",
        "    np.array([0.6, 0.6, 0.0]),\n",
        "    np.array([0.8, 0.4, 0.0]),\n",
        "    np.array([-0.2, 0.4, 0.0]),\n",
        "    np.array([0.2, 0.4, 0.0]),\n",
        "    np.array([0.0, 0.4, 0.0]),\n",
        "    np.array([0.0, 0.0, 0.6]),\n",
        "    np.array([0.0, 0.0, 0.8]),\n",
        "    np.array([0.0, 0.0, 0.0])\n",
        "]\n",
        "\n",
        "num_actions = len(DISCRETE_ACTIONS)"
      ],
      "metadata": {
        "id": "cGjK5GSA6yxE"
      },
      "execution_count": null,
      "outputs": []
    },
    {
      "cell_type": "code",
      "source": [
        "class QNetwork(nn.Module):\n",
        "    def __init__(self, input_dim=32, output_dim=num_actions):          # z to num_action. (linear layer),\n",
        "        super(QNetwork, self).__init__()                               # policy learn garna ko lagi, linear layer halna parena.\n",
        "        self.fc = nn.Sequential(\n",
        "            nn.Linear(input_dim, 128),\n",
        "            nn.ReLU(),\n",
        "            nn.Linear(128, 128),\n",
        "            nn.ReLU(),\n",
        "            nn.Linear(128, output_dim)\n",
        "        )\n",
        "    def forward(self, x):\n",
        "        return self.fc(x)"
      ],
      "metadata": {
        "id": "bBQPa8sD7Afl"
      },
      "execution_count": null,
      "outputs": []
    },
    {
      "cell_type": "code",
      "source": [
        "q_main = QNetwork(input_dim=latent_dim, output_dim=num_actions).to(device)\n",
        "q_target = QNetwork(input_dim=latent_dim, output_dim=num_actions).to(device)\n",
        "q_target.load_state_dict(q_main.state_dict())\n",
        "\n",
        "optimizer = optim.Adam(q_main.parameters(), lr=1e-3)"
      ],
      "metadata": {
        "id": "78VTWWX27ElW"
      },
      "execution_count": null,
      "outputs": []
    },
    {
      "cell_type": "code",
      "source": [
        "#replay buffer\n",
        "class ReplayBuffer:\n",
        "    def __init__(self, capacity=10000):\n",
        "        self.buffer = deque(maxlen=capacity)\n",
        "    def push(self, state, action, reward, next_state, done):\n",
        "        self.buffer.append((state, action, reward, next_state, done))\n",
        "    def sample(self, batch_size):\n",
        "        batch = random.sample(self.buffer, batch_size)\n",
        "        state, action, reward, next_state, done = map(np.array, zip(*batch))\n",
        "        return state, action, reward, next_state, done\n",
        "    def __len__(self):\n",
        "        return len(self.buffer)\n",
        "\n",
        "buffer = ReplayBuffer(capacity=50000)\n"
      ],
      "metadata": {
        "id": "lIbR0UzK7GqF"
      },
      "execution_count": null,
      "outputs": []
    },
    {
      "cell_type": "code",
      "source": [
        "\n",
        "def preprocess_frame(frame, size=(64, 64)):\n",
        "    frame = cv2.cvtColor(frame, cv2.COLOR_RGB2GRAY)\n",
        "    frame = cv2.resize(frame, size, interpolation=cv2.INTER_AREA)\n",
        "    frame = frame / 255.0\n",
        "    return frame.astype(np.float32)"
      ],
      "metadata": {
        "id": "rgVQbRT77I99"
      },
      "execution_count": null,
      "outputs": []
    },
    {
      "cell_type": "code",
      "source": [
        "\n",
        "def select_action(state_latent, epsilon):\n",
        "    if random.random() < epsilon:\n",
        "        return random.randrange(num_actions)\n",
        "    with torch.no_grad():\n",
        "        q_values = q_main(state_latent)\n",
        "    return q_values.argmax().item()"
      ],
      "metadata": {
        "id": "Fp5Ec_DC7LT9"
      },
      "execution_count": null,
      "outputs": []
    },
    {
      "cell_type": "code",
      "source": [
        "#DDQN\n",
        "def update_model(batch_size=64, gamma=0.99):\n",
        "    if len(buffer) < batch_size:\n",
        "        return\n",
        "    states, actions, rewards, next_states, dones = buffer.sample(batch_size)\n",
        "\n",
        "    states      = torch.tensor(states, dtype=torch.float32).to(device)\n",
        "    actions     = torch.tensor(actions, dtype=torch.int64).to(device)\n",
        "    rewards     = torch.tensor(rewards, dtype=torch.float32).to(device)\n",
        "    next_states = torch.tensor(next_states, dtype=torch.float32).to(device)\n",
        "    dones       = torch.tensor(dones, dtype=torch.float32).to(device)\n",
        "\n",
        "    q_values = q_main(states)\n",
        "    q_value = q_values.gather(1, actions.unsqueeze(1)).squeeze(1)\n",
        "\n",
        "\n",
        "    next_q_values = q_main(next_states)\n",
        "    next_actions = next_q_values.argmax(1, keepdim=True)\n",
        "    next_q_target = q_target(next_states).gather(1, next_actions).squeeze(1)\n",
        "\n",
        "    expected_q = rewards + gamma * next_q_target * (1 - dones)\n",
        "\n",
        "    loss = nn.MSELoss()(q_value, expected_q.detach())\n",
        "    optimizer.zero_grad()\n",
        "    loss.backward()\n",
        "    optimizer.step()"
      ],
      "metadata": {
        "id": "U4LrZUgO7N8d"
      },
      "execution_count": null,
      "outputs": []
    },
    {
      "cell_type": "code",
      "source": [
        "\n",
        "env = gym.make(\"CarRacing-v3\", continuous=True, render_mode=\"rgb_array\")\n",
        "num_episodes = 400\n",
        "max_steps = 600\n",
        "epsilon_start = 1.0\n",
        "epsilon_final = 0.1\n",
        "epsilon_decay = 300\n",
        "update_target_every = 1000\n",
        "step_count = 0\n",
        "all_rewards = []\n",
        "\n",
        "for episode in range(1, num_episodes+1):\n",
        "    obs, _ = env.reset()\n",
        "    obs_proc = preprocess_frame(obs)\n",
        "    #(batch, channel, H, W)\n",
        "    obs_tensor = torch.tensor(obs_proc, dtype=torch.float32).unsqueeze(0).unsqueeze(0).to(device)\n",
        "    with torch.no_grad():\n",
        "        state_latent,_ = vae.encode(obs_tensor)\n",
        "        state_latent = state_latent.squeeze(0)\n",
        "    total_reward = 0.0\n",
        "    done = False\n",
        "\n",
        "    for t in range(max_steps):\n",
        "        epsilon = epsilon_final + (epsilon_start - epsilon_final) * np.exp(-1.0 * step_count/epsilon_decay)\n",
        "        state_latent_input = state_latent.unsqueeze(0)\n",
        "        action_idx = select_action(state_latent_input, epsilon)\n",
        "        action = DISCRETE_ACTIONS[action_idx]\n",
        "\n",
        "        next_obs, reward, done, truncated, _ = env.step(action)\n",
        "        next_obs_proc = preprocess_frame(next_obs)\n",
        "        next_obs_tensor = torch.tensor(next_obs_proc, dtype=torch.float32).unsqueeze(0).unsqueeze(0).to(device)\n",
        "        with torch.no_grad():\n",
        "            next_state_latent,_ = vae.encode(next_obs_tensor)\n",
        "            next_state_latent = next_state_latent.squeeze(0)\n",
        "\n",
        "        buffer.push(state_latent.cpu().numpy(), action_idx, reward, next_state_latent.cpu().numpy(), done)\n",
        "\n",
        "        state_latent = next_state_latent\n",
        "        total_reward += reward\n",
        "        step_count += 1\n",
        "\n",
        "        update_model(batch_size=64, gamma=0.99)\n",
        "\n",
        "        # Update target network\n",
        "        if step_count % update_target_every == 0:\n",
        "            q_target.load_state_dict(q_main.state_dict())\n",
        "\n",
        "        if done:\n",
        "            break\n",
        "\n",
        "    all_rewards.append(total_reward)\n",
        "    print(f\"Episode {episode}, Reward: {total_reward:.2f}, Epsilon: {epsilon:.3f}\")\n",
        "\n",
        "env.close()\n",
        "\n",
        "torch.save(q_main.state_dict(), \"/content/drive/MyDrive/dqn_policy_car_racing_V.pth\")\n",
        "print(\"Learned policy saved to /content/drive/MyDrive/dqn_policy_car_racing_V.pth\")"
      ],
      "metadata": {
        "colab": {
          "base_uri": "https://localhost:8080/"
        },
        "id": "1RJ8QmbD7Q6l",
        "outputId": "92cc7ced-e7e4-4d05-a37b-2a8850805b83"
      },
      "execution_count": null,
      "outputs": [
        {
          "output_type": "stream",
          "name": "stdout",
          "text": [
            "Episode 1, Reward: 32.94, Epsilon: 0.222\n",
            "Episode 2, Reward: 36.49, Epsilon: 0.117\n",
            "Episode 3, Reward: -22.41, Epsilon: 0.102\n",
            "Episode 4, Reward: -22.50, Epsilon: 0.100\n",
            "Episode 5, Reward: -36.12, Epsilon: 0.100\n",
            "Episode 6, Reward: -31.43, Epsilon: 0.100\n",
            "Episode 7, Reward: 14.47, Epsilon: 0.100\n",
            "Episode 8, Reward: -13.89, Epsilon: 0.100\n",
            "Episode 9, Reward: 11.70, Epsilon: 0.100\n",
            "Episode 10, Reward: 27.66, Epsilon: 0.100\n",
            "Episode 11, Reward: 8.84, Epsilon: 0.100\n",
            "Episode 12, Reward: 106.02, Epsilon: 0.100\n",
            "Episode 13, Reward: 15.09, Epsilon: 0.100\n",
            "Episode 14, Reward: -10.76, Epsilon: 0.100\n",
            "Episode 15, Reward: 38.31, Epsilon: 0.100\n",
            "Episode 16, Reward: -4.81, Epsilon: 0.100\n",
            "Episode 17, Reward: 21.40, Epsilon: 0.100\n",
            "Episode 18, Reward: -2.45, Epsilon: 0.100\n",
            "Episode 19, Reward: -22.07, Epsilon: 0.100\n",
            "Episode 20, Reward: -106.32, Epsilon: 0.100\n",
            "Episode 21, Reward: 15.99, Epsilon: 0.100\n",
            "Episode 22, Reward: 20.99, Epsilon: 0.100\n",
            "Episode 23, Reward: -4.64, Epsilon: 0.100\n",
            "Episode 24, Reward: 22.76, Epsilon: 0.100\n",
            "Episode 25, Reward: 48.77, Epsilon: 0.100\n",
            "Episode 26, Reward: -6.62, Epsilon: 0.100\n",
            "Episode 27, Reward: -14.55, Epsilon: 0.100\n",
            "Episode 28, Reward: 1.59, Epsilon: 0.100\n",
            "Episode 29, Reward: 15.86, Epsilon: 0.100\n",
            "Episode 30, Reward: 27.12, Epsilon: 0.100\n",
            "Episode 31, Reward: 31.84, Epsilon: 0.100\n",
            "Episode 32, Reward: 54.86, Epsilon: 0.100\n",
            "Episode 33, Reward: -15.22, Epsilon: 0.100\n",
            "Episode 34, Reward: -8.53, Epsilon: 0.100\n",
            "Episode 35, Reward: -94.96, Epsilon: 0.100\n",
            "Episode 36, Reward: 3.38, Epsilon: 0.100\n",
            "Episode 37, Reward: 146.52, Epsilon: 0.100\n",
            "Episode 38, Reward: -5.58, Epsilon: 0.100\n",
            "Episode 39, Reward: 61.47, Epsilon: 0.100\n",
            "Episode 40, Reward: -1.39, Epsilon: 0.100\n",
            "Episode 41, Reward: 151.60, Epsilon: 0.100\n",
            "Episode 42, Reward: 41.69, Epsilon: 0.100\n",
            "Episode 43, Reward: 160.08, Epsilon: 0.100\n",
            "Episode 44, Reward: 84.40, Epsilon: 0.100\n",
            "Episode 45, Reward: 206.47, Epsilon: 0.100\n",
            "Episode 46, Reward: 184.22, Epsilon: 0.100\n",
            "Episode 47, Reward: 162.22, Epsilon: 0.100\n",
            "Episode 48, Reward: 183.90, Epsilon: 0.100\n",
            "Episode 49, Reward: 103.88, Epsilon: 0.100\n",
            "Episode 50, Reward: 208.61, Epsilon: 0.100\n",
            "Episode 51, Reward: -24.50, Epsilon: 0.100\n",
            "Episode 52, Reward: 20.15, Epsilon: 0.100\n",
            "Episode 53, Reward: 142.45, Epsilon: 0.100\n",
            "Episode 54, Reward: 215.62, Epsilon: 0.100\n",
            "Episode 55, Reward: 134.54, Epsilon: 0.100\n",
            "Episode 56, Reward: 55.38, Epsilon: 0.100\n",
            "Episode 57, Reward: 116.25, Epsilon: 0.100\n",
            "Episode 58, Reward: 33.53, Epsilon: 0.100\n",
            "Episode 59, Reward: 86.76, Epsilon: 0.100\n",
            "Episode 60, Reward: 303.33, Epsilon: 0.100\n",
            "Episode 61, Reward: 62.38, Epsilon: 0.100\n",
            "Episode 62, Reward: 185.10, Epsilon: 0.100\n",
            "Episode 63, Reward: 195.10, Epsilon: 0.100\n",
            "Episode 64, Reward: 54.58, Epsilon: 0.100\n",
            "Episode 65, Reward: 124.82, Epsilon: 0.100\n",
            "Episode 66, Reward: 328.51, Epsilon: 0.100\n",
            "Episode 67, Reward: 198.39, Epsilon: 0.100\n",
            "Episode 68, Reward: 134.08, Epsilon: 0.100\n",
            "Episode 69, Reward: 25.27, Epsilon: 0.100\n",
            "Episode 70, Reward: 129.47, Epsilon: 0.100\n",
            "Episode 71, Reward: 41.75, Epsilon: 0.100\n",
            "Episode 72, Reward: 7.80, Epsilon: 0.100\n",
            "Episode 73, Reward: 5.38, Epsilon: 0.100\n",
            "Episode 74, Reward: 3.60, Epsilon: 0.100\n",
            "Episode 75, Reward: 168.65, Epsilon: 0.100\n",
            "Episode 76, Reward: 122.39, Epsilon: 0.100\n",
            "Episode 77, Reward: 271.08, Epsilon: 0.100\n",
            "Episode 78, Reward: 261.54, Epsilon: 0.100\n",
            "Episode 79, Reward: 210.46, Epsilon: 0.100\n",
            "Episode 80, Reward: 171.32, Epsilon: 0.100\n",
            "Episode 81, Reward: 124.10, Epsilon: 0.100\n",
            "Episode 82, Reward: 123.33, Epsilon: 0.100\n",
            "Episode 83, Reward: 157.39, Epsilon: 0.100\n",
            "Episode 84, Reward: 85.52, Epsilon: 0.100\n",
            "Episode 85, Reward: -9.69, Epsilon: 0.100\n",
            "Episode 86, Reward: 88.15, Epsilon: 0.100\n",
            "Episode 87, Reward: 58.96, Epsilon: 0.100\n",
            "Episode 88, Reward: 2.50, Epsilon: 0.100\n",
            "Episode 89, Reward: 150.37, Epsilon: 0.100\n",
            "Episode 90, Reward: 4.19, Epsilon: 0.100\n",
            "Episode 91, Reward: 108.63, Epsilon: 0.100\n",
            "Episode 92, Reward: 120.00, Epsilon: 0.100\n",
            "Episode 93, Reward: 107.76, Epsilon: 0.100\n",
            "Episode 94, Reward: 196.14, Epsilon: 0.100\n",
            "Episode 95, Reward: 80.98, Epsilon: 0.100\n",
            "Episode 96, Reward: 110.07, Epsilon: 0.100\n",
            "Episode 97, Reward: 48.88, Epsilon: 0.100\n",
            "Episode 98, Reward: 164.91, Epsilon: 0.100\n",
            "Episode 99, Reward: 79.86, Epsilon: 0.100\n",
            "Episode 100, Reward: 216.82, Epsilon: 0.100\n",
            "Episode 101, Reward: 226.17, Epsilon: 0.100\n",
            "Episode 102, Reward: 16.66, Epsilon: 0.100\n",
            "Episode 103, Reward: 7.14, Epsilon: 0.100\n",
            "Episode 104, Reward: 93.57, Epsilon: 0.100\n",
            "Episode 105, Reward: 197.67, Epsilon: 0.100\n",
            "Episode 106, Reward: 98.25, Epsilon: 0.100\n",
            "Episode 107, Reward: 196.60, Epsilon: 0.100\n",
            "Episode 108, Reward: 81.41, Epsilon: 0.100\n",
            "Episode 109, Reward: 136.23, Epsilon: 0.100\n",
            "Episode 110, Reward: 171.88, Epsilon: 0.100\n",
            "Episode 111, Reward: -34.07, Epsilon: 0.100\n",
            "Episode 112, Reward: 296.06, Epsilon: 0.100\n",
            "Episode 113, Reward: 207.61, Epsilon: 0.100\n",
            "Episode 114, Reward: 487.70, Epsilon: 0.100\n",
            "Episode 115, Reward: 113.76, Epsilon: 0.100\n",
            "Episode 116, Reward: 80.98, Epsilon: 0.100\n",
            "Episode 117, Reward: 141.30, Epsilon: 0.100\n",
            "Episode 118, Reward: 199.02, Epsilon: 0.100\n",
            "Episode 119, Reward: 61.21, Epsilon: 0.100\n",
            "Episode 120, Reward: 5.62, Epsilon: 0.100\n",
            "Episode 121, Reward: 48.61, Epsilon: 0.100\n",
            "Episode 122, Reward: 237.10, Epsilon: 0.100\n",
            "Episode 123, Reward: 214.65, Epsilon: 0.100\n",
            "Episode 124, Reward: -17.38, Epsilon: 0.100\n",
            "Episode 125, Reward: -43.55, Epsilon: 0.100\n",
            "Episode 126, Reward: 86.96, Epsilon: 0.100\n",
            "Episode 127, Reward: 393.57, Epsilon: 0.100\n",
            "Episode 128, Reward: 78.05, Epsilon: 0.100\n",
            "Episode 129, Reward: 309.86, Epsilon: 0.100\n",
            "Episode 130, Reward: 121.82, Epsilon: 0.100\n",
            "Episode 131, Reward: 436.60, Epsilon: 0.100\n",
            "Episode 132, Reward: 456.00, Epsilon: 0.100\n",
            "Episode 133, Reward: 291.92, Epsilon: 0.100\n",
            "Episode 134, Reward: 280.21, Epsilon: 0.100\n",
            "Episode 135, Reward: 290.36, Epsilon: 0.100\n",
            "Episode 136, Reward: 279.62, Epsilon: 0.100\n",
            "Episode 137, Reward: 591.72, Epsilon: 0.100\n",
            "Episode 138, Reward: 299.15, Epsilon: 0.100\n",
            "Episode 139, Reward: 328.89, Epsilon: 0.100\n",
            "Episode 140, Reward: 361.93, Epsilon: 0.100\n",
            "Episode 141, Reward: 233.91, Epsilon: 0.100\n",
            "Episode 142, Reward: 396.93, Epsilon: 0.100\n",
            "Episode 143, Reward: 479.57, Epsilon: 0.100\n",
            "Episode 144, Reward: 182.14, Epsilon: 0.100\n",
            "Episode 145, Reward: 429.03, Epsilon: 0.100\n",
            "Episode 146, Reward: 479.63, Epsilon: 0.100\n",
            "Episode 147, Reward: 280.25, Epsilon: 0.100\n",
            "Episode 148, Reward: 83.84, Epsilon: 0.100\n",
            "Episode 149, Reward: 15.86, Epsilon: 0.100\n",
            "Episode 150, Reward: 150.37, Epsilon: 0.100\n",
            "Episode 151, Reward: 345.84, Epsilon: 0.100\n",
            "Episode 152, Reward: 365.68, Epsilon: 0.100\n",
            "Episode 153, Reward: 361.05, Epsilon: 0.100\n",
            "Episode 154, Reward: 418.87, Epsilon: 0.100\n",
            "Episode 155, Reward: 288.28, Epsilon: 0.100\n",
            "Episode 156, Reward: 194.42, Epsilon: 0.100\n",
            "Episode 157, Reward: 517.46, Epsilon: 0.100\n",
            "Episode 158, Reward: 285.79, Epsilon: 0.100\n",
            "Episode 159, Reward: 96.03, Epsilon: 0.100\n",
            "Episode 160, Reward: 571.39, Epsilon: 0.100\n",
            "Episode 161, Reward: 468.00, Epsilon: 0.100\n",
            "Episode 162, Reward: 320.95, Epsilon: 0.100\n",
            "Episode 163, Reward: 124.30, Epsilon: 0.100\n",
            "Episode 164, Reward: 584.69, Epsilon: 0.100\n",
            "Episode 165, Reward: 338.23, Epsilon: 0.100\n",
            "Episode 166, Reward: 293.14, Epsilon: 0.100\n",
            "Episode 167, Reward: 526.21, Epsilon: 0.100\n",
            "Episode 168, Reward: 198.06, Epsilon: 0.100\n",
            "Episode 169, Reward: 440.00, Epsilon: 0.100\n",
            "Episode 170, Reward: 463.03, Epsilon: 0.100\n",
            "Episode 171, Reward: 516.09, Epsilon: 0.100\n",
            "Episode 172, Reward: 402.63, Epsilon: 0.100\n",
            "Episode 173, Reward: 254.69, Epsilon: 0.100\n",
            "Episode 174, Reward: 356.97, Epsilon: 0.100\n",
            "Episode 175, Reward: 221.90, Epsilon: 0.100\n",
            "Episode 176, Reward: 281.32, Epsilon: 0.100\n",
            "Episode 177, Reward: 547.84, Epsilon: 0.100\n",
            "Episode 178, Reward: 200.73, Epsilon: 0.100\n",
            "Episode 179, Reward: 1.64, Epsilon: 0.100\n",
            "Episode 180, Reward: 220.00, Epsilon: 0.100\n",
            "Episode 181, Reward: 441.96, Epsilon: 0.100\n",
            "Episode 182, Reward: 358.92, Epsilon: 0.100\n",
            "Episode 183, Reward: 539.33, Epsilon: 0.100\n",
            "Episode 184, Reward: 242.82, Epsilon: 0.100\n",
            "Episode 185, Reward: 173.08, Epsilon: 0.100\n",
            "Episode 186, Reward: 263.64, Epsilon: 0.100\n",
            "Episode 187, Reward: 333.84, Epsilon: 0.100\n",
            "Episode 188, Reward: 309.96, Epsilon: 0.100\n",
            "Episode 189, Reward: 476.28, Epsilon: 0.100\n",
            "Episode 190, Reward: 445.05, Epsilon: 0.100\n",
            "Episode 191, Reward: 418.66, Epsilon: 0.100\n",
            "Episode 192, Reward: 205.78, Epsilon: 0.100\n",
            "Episode 193, Reward: 91.90, Epsilon: 0.100\n",
            "Episode 194, Reward: 419.51, Epsilon: 0.100\n",
            "Episode 195, Reward: 65.00, Epsilon: 0.100\n",
            "Episode 196, Reward: 321.12, Epsilon: 0.100\n",
            "Episode 197, Reward: 451.86, Epsilon: 0.100\n",
            "Episode 198, Reward: 117.78, Epsilon: 0.100\n",
            "Episode 199, Reward: 159.05, Epsilon: 0.100\n",
            "Episode 200, Reward: 121.25, Epsilon: 0.100\n",
            "Episode 201, Reward: 384.44, Epsilon: 0.100\n",
            "Episode 202, Reward: 471.47, Epsilon: 0.100\n",
            "Episode 203, Reward: 40.69, Epsilon: 0.100\n",
            "Episode 204, Reward: 256.55, Epsilon: 0.100\n",
            "Episode 205, Reward: 141.47, Epsilon: 0.100\n",
            "Episode 206, Reward: 19.86, Epsilon: 0.100\n",
            "Episode 207, Reward: 371.03, Epsilon: 0.100\n",
            "Episode 208, Reward: 248.72, Epsilon: 0.100\n",
            "Episode 209, Reward: 466.01, Epsilon: 0.100\n",
            "Episode 210, Reward: 287.27, Epsilon: 0.100\n",
            "Episode 211, Reward: 287.27, Epsilon: 0.100\n",
            "Episode 212, Reward: 509.40, Epsilon: 0.100\n",
            "Episode 213, Reward: 441.89, Epsilon: 0.100\n",
            "Episode 214, Reward: 55.24, Epsilon: 0.100\n",
            "Episode 215, Reward: 290.88, Epsilon: 0.100\n",
            "Episode 216, Reward: 402.33, Epsilon: 0.100\n",
            "Episode 217, Reward: 95.71, Epsilon: 0.100\n",
            "Episode 218, Reward: 144.27, Epsilon: 0.100\n",
            "Episode 219, Reward: 440.00, Epsilon: 0.100\n",
            "Episode 220, Reward: 426.06, Epsilon: 0.100\n",
            "Episode 221, Reward: 345.80, Epsilon: 0.100\n",
            "Episode 222, Reward: 334.74, Epsilon: 0.100\n",
            "Episode 223, Reward: 8.59, Epsilon: 0.100\n",
            "Episode 224, Reward: 275.37, Epsilon: 0.100\n",
            "Episode 225, Reward: 104.87, Epsilon: 0.100\n",
            "Episode 226, Reward: 177.96, Epsilon: 0.100\n",
            "Episode 227, Reward: 275.64, Epsilon: 0.100\n",
            "Episode 228, Reward: 367.08, Epsilon: 0.100\n",
            "Episode 229, Reward: 10.42, Epsilon: 0.100\n",
            "Episode 230, Reward: 348.45, Epsilon: 0.100\n",
            "Episode 231, Reward: 216.36, Epsilon: 0.100\n",
            "Episode 232, Reward: 147.79, Epsilon: 0.100\n",
            "Episode 233, Reward: 493.26, Epsilon: 0.100\n",
            "Episode 234, Reward: 315.82, Epsilon: 0.100\n",
            "Episode 235, Reward: 232.10, Epsilon: 0.100\n",
            "Episode 236, Reward: 270.43, Epsilon: 0.100\n",
            "Episode 237, Reward: 360.88, Epsilon: 0.100\n",
            "Episode 238, Reward: 205.82, Epsilon: 0.100\n",
            "Episode 239, Reward: 521.40, Epsilon: 0.100\n",
            "Episode 240, Reward: 574.15, Epsilon: 0.100\n",
            "Episode 241, Reward: 384.83, Epsilon: 0.100\n",
            "Episode 242, Reward: 277.12, Epsilon: 0.100\n",
            "Episode 243, Reward: 91.75, Epsilon: 0.100\n",
            "Episode 244, Reward: 462.88, Epsilon: 0.100\n",
            "Episode 245, Reward: 406.93, Epsilon: 0.100\n",
            "Episode 246, Reward: 379.60, Epsilon: 0.100\n",
            "Episode 247, Reward: 393.18, Epsilon: 0.100\n",
            "Episode 248, Reward: 251.36, Epsilon: 0.100\n",
            "Episode 249, Reward: 261.31, Epsilon: 0.100\n",
            "Episode 250, Reward: 317.29, Epsilon: 0.100\n",
            "Episode 251, Reward: 352.41, Epsilon: 0.100\n",
            "Episode 252, Reward: 336.30, Epsilon: 0.100\n",
            "Episode 253, Reward: 484.26, Epsilon: 0.100\n",
            "Episode 254, Reward: 457.35, Epsilon: 0.100\n",
            "Episode 255, Reward: 391.96, Epsilon: 0.100\n",
            "Episode 256, Reward: 402.90, Epsilon: 0.100\n",
            "Episode 257, Reward: 427.54, Epsilon: 0.100\n",
            "Episode 258, Reward: 471.91, Epsilon: 0.100\n",
            "Episode 259, Reward: 408.55, Epsilon: 0.100\n",
            "Episode 260, Reward: 344.33, Epsilon: 0.100\n",
            "Episode 261, Reward: 411.64, Epsilon: 0.100\n",
            "Episode 262, Reward: 485.45, Epsilon: 0.100\n",
            "Episode 263, Reward: 476.59, Epsilon: 0.100\n",
            "Episode 264, Reward: 493.40, Epsilon: 0.100\n",
            "Episode 265, Reward: 291.97, Epsilon: 0.100\n",
            "Episode 266, Reward: 382.51, Epsilon: 0.100\n",
            "Episode 267, Reward: 713.58, Epsilon: 0.100\n",
            "Episode 268, Reward: 507.77, Epsilon: 0.100\n",
            "Episode 269, Reward: 516.67, Epsilon: 0.100\n",
            "Episode 270, Reward: 590.18, Epsilon: 0.100\n",
            "Episode 271, Reward: 304.18, Epsilon: 0.100\n",
            "Episode 272, Reward: 510.92, Epsilon: 0.100\n",
            "Episode 273, Reward: 193.01, Epsilon: 0.100\n",
            "Episode 274, Reward: 193.21, Epsilon: 0.100\n",
            "Episode 275, Reward: 280.74, Epsilon: 0.100\n",
            "Episode 276, Reward: 390.00, Epsilon: 0.100\n",
            "Episode 277, Reward: 339.31, Epsilon: 0.100\n",
            "Episode 278, Reward: 286.75, Epsilon: 0.100\n",
            "Episode 279, Reward: 232.86, Epsilon: 0.100\n",
            "Episode 280, Reward: 213.65, Epsilon: 0.100\n",
            "Episode 281, Reward: 326.99, Epsilon: 0.100\n",
            "Episode 282, Reward: 284.59, Epsilon: 0.100\n",
            "Episode 283, Reward: 124.71, Epsilon: 0.100\n",
            "Episode 284, Reward: 228.03, Epsilon: 0.100\n",
            "Episode 285, Reward: 381.78, Epsilon: 0.100\n",
            "Episode 286, Reward: 463.99, Epsilon: 0.100\n",
            "Episode 287, Reward: 200.14, Epsilon: 0.100\n",
            "Episode 288, Reward: 135.04, Epsilon: 0.100\n",
            "Episode 289, Reward: 297.62, Epsilon: 0.100\n",
            "Episode 290, Reward: 270.00, Epsilon: 0.100\n",
            "Episode 291, Reward: 376.62, Epsilon: 0.100\n",
            "Episode 292, Reward: 252.27, Epsilon: 0.100\n",
            "Episode 293, Reward: 423.87, Epsilon: 0.100\n",
            "Episode 294, Reward: 388.05, Epsilon: 0.100\n",
            "Episode 295, Reward: 312.55, Epsilon: 0.100\n",
            "Episode 296, Reward: 275.42, Epsilon: 0.100\n",
            "Episode 297, Reward: 567.31, Epsilon: 0.100\n",
            "Episode 298, Reward: 395.28, Epsilon: 0.100\n",
            "Episode 299, Reward: 204.33, Epsilon: 0.100\n",
            "Episode 300, Reward: 314.19, Epsilon: 0.100\n",
            "Episode 301, Reward: 282.86, Epsilon: 0.100\n",
            "Episode 302, Reward: 416.47, Epsilon: 0.100\n",
            "Episode 303, Reward: 302.42, Epsilon: 0.100\n",
            "Episode 304, Reward: 523.62, Epsilon: 0.100\n",
            "Episode 305, Reward: 295.07, Epsilon: 0.100\n",
            "Episode 306, Reward: 463.36, Epsilon: 0.100\n",
            "Episode 307, Reward: 374.31, Epsilon: 0.100\n",
            "Episode 308, Reward: 288.24, Epsilon: 0.100\n",
            "Episode 309, Reward: 502.94, Epsilon: 0.100\n",
            "Episode 310, Reward: 459.16, Epsilon: 0.100\n",
            "Episode 311, Reward: 543.11, Epsilon: 0.100\n",
            "Episode 312, Reward: 599.02, Epsilon: 0.100\n",
            "Episode 313, Reward: 168.67, Epsilon: 0.100\n",
            "Episode 314, Reward: 525.77, Epsilon: 0.100\n",
            "Episode 315, Reward: 574.41, Epsilon: 0.100\n",
            "Episode 316, Reward: 451.36, Epsilon: 0.100\n",
            "Episode 317, Reward: 486.33, Epsilon: 0.100\n",
            "Episode 318, Reward: 526.32, Epsilon: 0.100\n",
            "Episode 319, Reward: 251.11, Epsilon: 0.100\n",
            "Episode 320, Reward: 364.03, Epsilon: 0.100\n",
            "Episode 321, Reward: 89.09, Epsilon: 0.100\n",
            "Episode 322, Reward: 488.61, Epsilon: 0.100\n",
            "Episode 323, Reward: 415.41, Epsilon: 0.100\n",
            "Episode 324, Reward: 506.56, Epsilon: 0.100\n",
            "Episode 325, Reward: 304.78, Epsilon: 0.100\n",
            "Episode 326, Reward: 661.25, Epsilon: 0.100\n",
            "Episode 327, Reward: 579.61, Epsilon: 0.100\n",
            "Episode 328, Reward: 84.93, Epsilon: 0.100\n",
            "Episode 329, Reward: 683.77, Epsilon: 0.100\n",
            "Episode 330, Reward: 702.65, Epsilon: 0.100\n",
            "Episode 331, Reward: 54.81, Epsilon: 0.100\n",
            "Episode 332, Reward: 410.97, Epsilon: 0.100\n",
            "Episode 333, Reward: 277.66, Epsilon: 0.100\n",
            "Episode 334, Reward: 37.22, Epsilon: 0.100\n",
            "Episode 335, Reward: 266.28, Epsilon: 0.100\n",
            "Episode 336, Reward: 214.25, Epsilon: 0.100\n",
            "Episode 337, Reward: 143.95, Epsilon: 0.100\n",
            "Episode 338, Reward: 343.57, Epsilon: 0.100\n",
            "Episode 339, Reward: 281.94, Epsilon: 0.100\n",
            "Episode 340, Reward: 395.13, Epsilon: 0.100\n",
            "Episode 341, Reward: 325.38, Epsilon: 0.100\n",
            "Episode 342, Reward: 343.64, Epsilon: 0.100\n",
            "Episode 343, Reward: 212.15, Epsilon: 0.100\n",
            "Episode 344, Reward: 436.73, Epsilon: 0.100\n",
            "Episode 345, Reward: 503.14, Epsilon: 0.100\n",
            "Episode 346, Reward: 246.25, Epsilon: 0.100\n",
            "Episode 347, Reward: 578.60, Epsilon: 0.100\n",
            "Episode 348, Reward: 397.75, Epsilon: 0.100\n",
            "Episode 349, Reward: 346.59, Epsilon: 0.100\n",
            "Episode 350, Reward: 97.34, Epsilon: 0.100\n",
            "Episode 351, Reward: 109.68, Epsilon: 0.100\n",
            "Episode 352, Reward: 495.94, Epsilon: 0.100\n",
            "Episode 353, Reward: 326.36, Epsilon: 0.100\n",
            "Episode 354, Reward: 368.57, Epsilon: 0.100\n",
            "Episode 355, Reward: 295.99, Epsilon: 0.100\n",
            "Episode 356, Reward: 547.38, Epsilon: 0.100\n",
            "Episode 357, Reward: 428.89, Epsilon: 0.100\n",
            "Episode 358, Reward: 277.54, Epsilon: 0.100\n",
            "Episode 359, Reward: 491.97, Epsilon: 0.100\n",
            "Episode 360, Reward: 165.30, Epsilon: 0.100\n",
            "Episode 361, Reward: 322.64, Epsilon: 0.100\n",
            "Episode 362, Reward: 258.35, Epsilon: 0.100\n",
            "Episode 363, Reward: 251.61, Epsilon: 0.100\n",
            "Episode 364, Reward: 398.75, Epsilon: 0.100\n",
            "Episode 365, Reward: 418.43, Epsilon: 0.100\n",
            "Episode 366, Reward: 194.48, Epsilon: 0.100\n",
            "Episode 367, Reward: 430.20, Epsilon: 0.100\n",
            "Episode 368, Reward: 342.44, Epsilon: 0.100\n",
            "Episode 369, Reward: 544.58, Epsilon: 0.100\n",
            "Episode 370, Reward: 80.47, Epsilon: 0.100\n",
            "Episode 371, Reward: 273.33, Epsilon: 0.100\n",
            "Episode 372, Reward: 318.98, Epsilon: 0.100\n",
            "Episode 373, Reward: 177.76, Epsilon: 0.100\n",
            "Episode 374, Reward: 104.47, Epsilon: 0.100\n",
            "Episode 375, Reward: 293.50, Epsilon: 0.100\n",
            "Episode 376, Reward: 587.44, Epsilon: 0.100\n",
            "Episode 377, Reward: 415.08, Epsilon: 0.100\n",
            "Episode 378, Reward: 343.46, Epsilon: 0.100\n",
            "Episode 379, Reward: 345.51, Epsilon: 0.100\n",
            "Episode 380, Reward: 369.60, Epsilon: 0.100\n",
            "Episode 381, Reward: 331.30, Epsilon: 0.100\n",
            "Episode 382, Reward: 299.62, Epsilon: 0.100\n",
            "Episode 383, Reward: 114.92, Epsilon: 0.100\n",
            "Episode 384, Reward: -10.00, Epsilon: 0.100\n",
            "Episode 385, Reward: 243.89, Epsilon: 0.100\n",
            "Episode 386, Reward: 346.25, Epsilon: 0.100\n",
            "Episode 387, Reward: 398.48, Epsilon: 0.100\n",
            "Episode 388, Reward: 288.10, Epsilon: 0.100\n",
            "Episode 389, Reward: 292.11, Epsilon: 0.100\n",
            "Episode 390, Reward: 296.89, Epsilon: 0.100\n",
            "Episode 391, Reward: 317.85, Epsilon: 0.100\n",
            "Episode 392, Reward: 276.73, Epsilon: 0.100\n",
            "Episode 393, Reward: 362.95, Epsilon: 0.100\n",
            "Episode 394, Reward: 450.56, Epsilon: 0.100\n",
            "Episode 395, Reward: 90.77, Epsilon: 0.100\n",
            "Episode 396, Reward: 438.39, Epsilon: 0.100\n",
            "Episode 397, Reward: 366.93, Epsilon: 0.100\n",
            "Episode 398, Reward: 368.57, Epsilon: 0.100\n",
            "Episode 399, Reward: 409.80, Epsilon: 0.100\n",
            "Episode 400, Reward: 450.95, Epsilon: 0.100\n",
            "Learned policy saved to /content/drive/MyDrive/dqn_policy_car_racing_V.pth\n"
          ]
        }
      ]
    },
    {
      "cell_type": "code",
      "source": [],
      "metadata": {
        "id": "tJs6EwID5yxt"
      },
      "execution_count": null,
      "outputs": []
    },
    {
      "cell_type": "code",
      "source": [
        "# env = gym.make(\"CarRacing-v3\", continuous=True, render_mode=\"rgb_array\")\n",
        "# num_test_episodes = 5\n",
        "\n",
        "# for ep in range(num_test_episodes):\n",
        "#     obs, _ = env.reset()\n",
        "#     obs_proc = preprocess_frame(obs)\n",
        "#     obs_tensor = torch.tensor(obs_proc, dtype=torch.float32).unsqueeze(0).unsqueeze(0).to(device)\n",
        "#     with torch.no_grad():\n",
        "#         state_latent,_ = vae.encode(obs_tensor)\n",
        "#         state_latent = state_latent.squeeze(0)  # (latent_dim,)\n",
        "\n",
        "#     frames = []\n",
        "#     total_reward = 0\n",
        "#     done = False\n",
        "#     while not done:\n",
        "#         # Use greedy policy (epsilon=0)\n",
        "#         state_latent_input = state_latent.unsqueeze(0)\n",
        "#         with torch.no_grad():\n",
        "#             q_values = q_main(state_latent_input)\n",
        "#         action_idx = q_values.argmax().item()\n",
        "#         action = DISCRETE_ACTIONS[action_idx]\n",
        "\n",
        "#         next_obs, reward, done, truncated, _ = env.step(action)\n",
        "#         total_reward += reward\n",
        "#         frames.append(next_obs)\n",
        "\n",
        "#         next_obs_proc = preprocess_frame(next_obs)\n",
        "#         next_obs_tensor = torch.tensor(next_obs_proc, dtype=torch.float32).unsqueeze(0).unsqueeze(0).to(device)\n",
        "#         with torch.no_grad():\n",
        "#             state_latent,_ = vae.encode(next_obs_tensor)\n",
        "#             state_latent = state_latent.squeeze(0)  # (latent_dim,)\n",
        "\n",
        "#     print(f\"Test Episode {ep+1}, Total Reward: {total_reward:.2f}\")\n",
        "\n",
        "#     # Optional: Display a few frames from the episode.\n",
        "#     fig, axs = plt.subplots(1, 5, figsize=(15,3))\n",
        "#     for i, ax in enumerate(axs):\n",
        "#         idx = int(i * len(frames)/5)\n",
        "#         ax.imshow(frames[idx])\n",
        "#         ax.axis(\"off\")\n",
        "#     plt.show()\n",
        "\n",
        "# env.close()"
      ],
      "metadata": {
        "id": "ArA6aBSb7T7N"
      },
      "execution_count": null,
      "outputs": []
    },
    {
      "cell_type": "code",
      "source": [
        "q_net = QNetwork(input_dim=latent_dim, output_dim=5).to(device)\n",
        "q_net.load_state_dict(torch.load(\"/content/drive/MyDrive/dqn_policy_car_racing1.pth\", map_location=device))\n",
        "q_net.eval()\n",
        "# env = gym.make(\"CarRacing-v3\", continuous=True, render_mode=\"human\")\n",
        "# obs, _ = env.reset()\n",
        "# done = False\n",
        "\n",
        "# while not done:\n",
        "#     # Preprocess observation & extract latent state (using only mu)\n",
        "#     obs_proc = preprocess_frame(obs)\n",
        "#     obs_tensor = torch.tensor(obs_proc, dtype=torch.float32).unsqueeze(0).unsqueeze(0).to(device)\n",
        "#     with torch.no_grad():\n",
        "#         state_latent, _ = vae.encode(obs_tensor)  # Only mu is used\n",
        "#         state_latent = state_latent.squeeze(0)\n",
        "\n",
        "#     # Select action greedily from the Q-network\n",
        "#     with torch.no_grad():\n",
        "#         q_values = q_net(state_latent.unsqueeze(0))\n",
        "#     action_idx = q_values.argmax().item()\n",
        "#     action = DISCRETE_ACTIONS[action_idx]\n",
        "\n",
        "#     # Step in the environment\n",
        "#     obs, reward, done, truncated, info = env.step(action)\n"
      ],
      "metadata": {
        "colab": {
          "base_uri": "https://localhost:8080/",
          "height": 393
        },
        "id": "2oEC03A-FrjW",
        "outputId": "6ff914e4-9379-424c-c171-284d56a1b435"
      },
      "execution_count": null,
      "outputs": [
        {
          "output_type": "stream",
          "name": "stderr",
          "text": [
            "<ipython-input-16-28e0df2e03d7>:3: FutureWarning: You are using `torch.load` with `weights_only=False` (the current default value), which uses the default pickle module implicitly. It is possible to construct malicious pickle data which will execute arbitrary code during unpickling (See https://github.com/pytorch/pytorch/blob/main/SECURITY.md#untrusted-models for more details). In a future release, the default value for `weights_only` will be flipped to `True`. This limits the functions that could be executed during unpickling. Arbitrary objects will no longer be allowed to be loaded via this mode unless they are explicitly allowlisted by the user via `torch.serialization.add_safe_globals`. We recommend you start setting `weights_only=True` for any use case where you don't have full control of the loaded file. Please open an issue on GitHub for any issues related to this experimental feature.\n",
            "  q_net.load_state_dict(torch.load(\"/content/drive/MyDrive/dqn_policy_car_racing1.pth\", map_location=device))\n"
          ]
        },
        {
          "output_type": "error",
          "ename": "KeyboardInterrupt",
          "evalue": "",
          "traceback": [
            "\u001b[0;31m---------------------------------------------------------------------------\u001b[0m",
            "\u001b[0;31mKeyboardInterrupt\u001b[0m                         Traceback (most recent call last)",
            "\u001b[0;32m<ipython-input-16-28e0df2e03d7>\u001b[0m in \u001b[0;36m<cell line: 0>\u001b[0;34m()\u001b[0m\n\u001b[1;32m     24\u001b[0m \u001b[0;34m\u001b[0m\u001b[0m\n\u001b[1;32m     25\u001b[0m     \u001b[0;31m# Step in the environment\u001b[0m\u001b[0;34m\u001b[0m\u001b[0;34m\u001b[0m\u001b[0m\n\u001b[0;32m---> 26\u001b[0;31m     \u001b[0mobs\u001b[0m\u001b[0;34m,\u001b[0m \u001b[0mreward\u001b[0m\u001b[0;34m,\u001b[0m \u001b[0mdone\u001b[0m\u001b[0;34m,\u001b[0m \u001b[0mtruncated\u001b[0m\u001b[0;34m,\u001b[0m \u001b[0minfo\u001b[0m \u001b[0;34m=\u001b[0m \u001b[0menv\u001b[0m\u001b[0;34m.\u001b[0m\u001b[0mstep\u001b[0m\u001b[0;34m(\u001b[0m\u001b[0maction\u001b[0m\u001b[0;34m)\u001b[0m\u001b[0;34m\u001b[0m\u001b[0;34m\u001b[0m\u001b[0m\n\u001b[0m",
            "\u001b[0;32m/usr/local/lib/python3.11/dist-packages/gymnasium/wrappers/common.py\u001b[0m in \u001b[0;36mstep\u001b[0;34m(self, action)\u001b[0m\n\u001b[1;32m    123\u001b[0m \u001b[0;34m\u001b[0m\u001b[0m\n\u001b[1;32m    124\u001b[0m         \"\"\"\n\u001b[0;32m--> 125\u001b[0;31m         \u001b[0mobservation\u001b[0m\u001b[0;34m,\u001b[0m \u001b[0mreward\u001b[0m\u001b[0;34m,\u001b[0m \u001b[0mterminated\u001b[0m\u001b[0;34m,\u001b[0m \u001b[0mtruncated\u001b[0m\u001b[0;34m,\u001b[0m \u001b[0minfo\u001b[0m \u001b[0;34m=\u001b[0m \u001b[0mself\u001b[0m\u001b[0;34m.\u001b[0m\u001b[0menv\u001b[0m\u001b[0;34m.\u001b[0m\u001b[0mstep\u001b[0m\u001b[0;34m(\u001b[0m\u001b[0maction\u001b[0m\u001b[0;34m)\u001b[0m\u001b[0;34m\u001b[0m\u001b[0;34m\u001b[0m\u001b[0m\n\u001b[0m\u001b[1;32m    126\u001b[0m         \u001b[0mself\u001b[0m\u001b[0;34m.\u001b[0m\u001b[0m_elapsed_steps\u001b[0m \u001b[0;34m+=\u001b[0m \u001b[0;36m1\u001b[0m\u001b[0;34m\u001b[0m\u001b[0;34m\u001b[0m\u001b[0m\n\u001b[1;32m    127\u001b[0m \u001b[0;34m\u001b[0m\u001b[0m\n",
            "\u001b[0;32m/usr/local/lib/python3.11/dist-packages/gymnasium/wrappers/common.py\u001b[0m in \u001b[0;36mstep\u001b[0;34m(self, action)\u001b[0m\n\u001b[1;32m    391\u001b[0m         \u001b[0;32mif\u001b[0m \u001b[0;32mnot\u001b[0m \u001b[0mself\u001b[0m\u001b[0;34m.\u001b[0m\u001b[0m_has_reset\u001b[0m\u001b[0;34m:\u001b[0m\u001b[0;34m\u001b[0m\u001b[0;34m\u001b[0m\u001b[0m\n\u001b[1;32m    392\u001b[0m             \u001b[0;32mraise\u001b[0m \u001b[0mResetNeeded\u001b[0m\u001b[0;34m(\u001b[0m\u001b[0;34m\"Cannot call env.step() before calling env.reset()\"\u001b[0m\u001b[0;34m)\u001b[0m\u001b[0;34m\u001b[0m\u001b[0;34m\u001b[0m\u001b[0m\n\u001b[0;32m--> 393\u001b[0;31m         \u001b[0;32mreturn\u001b[0m \u001b[0msuper\u001b[0m\u001b[0;34m(\u001b[0m\u001b[0;34m)\u001b[0m\u001b[0;34m.\u001b[0m\u001b[0mstep\u001b[0m\u001b[0;34m(\u001b[0m\u001b[0maction\u001b[0m\u001b[0;34m)\u001b[0m\u001b[0;34m\u001b[0m\u001b[0;34m\u001b[0m\u001b[0m\n\u001b[0m\u001b[1;32m    394\u001b[0m \u001b[0;34m\u001b[0m\u001b[0m\n\u001b[1;32m    395\u001b[0m     def reset(\n",
            "\u001b[0;32m/usr/local/lib/python3.11/dist-packages/gymnasium/core.py\u001b[0m in \u001b[0;36mstep\u001b[0;34m(self, action)\u001b[0m\n\u001b[1;32m    320\u001b[0m     ) -> tuple[WrapperObsType, SupportsFloat, bool, bool, dict[str, Any]]:\n\u001b[1;32m    321\u001b[0m         \u001b[0;34m\"\"\"Uses the :meth:`step` of the :attr:`env` that can be overwritten to change the returned data.\"\"\"\u001b[0m\u001b[0;34m\u001b[0m\u001b[0;34m\u001b[0m\u001b[0m\n\u001b[0;32m--> 322\u001b[0;31m         \u001b[0;32mreturn\u001b[0m \u001b[0mself\u001b[0m\u001b[0;34m.\u001b[0m\u001b[0menv\u001b[0m\u001b[0;34m.\u001b[0m\u001b[0mstep\u001b[0m\u001b[0;34m(\u001b[0m\u001b[0maction\u001b[0m\u001b[0;34m)\u001b[0m\u001b[0;34m\u001b[0m\u001b[0;34m\u001b[0m\u001b[0m\n\u001b[0m\u001b[1;32m    323\u001b[0m \u001b[0;34m\u001b[0m\u001b[0m\n\u001b[1;32m    324\u001b[0m     def reset(\n",
            "\u001b[0;32m/usr/local/lib/python3.11/dist-packages/gymnasium/wrappers/common.py\u001b[0m in \u001b[0;36mstep\u001b[0;34m(self, action)\u001b[0m\n\u001b[1;32m    283\u001b[0m             \u001b[0;32mreturn\u001b[0m \u001b[0menv_step_passive_checker\u001b[0m\u001b[0;34m(\u001b[0m\u001b[0mself\u001b[0m\u001b[0;34m.\u001b[0m\u001b[0menv\u001b[0m\u001b[0;34m,\u001b[0m \u001b[0maction\u001b[0m\u001b[0;34m)\u001b[0m\u001b[0;34m\u001b[0m\u001b[0;34m\u001b[0m\u001b[0m\n\u001b[1;32m    284\u001b[0m         \u001b[0;32melse\u001b[0m\u001b[0;34m:\u001b[0m\u001b[0;34m\u001b[0m\u001b[0;34m\u001b[0m\u001b[0m\n\u001b[0;32m--> 285\u001b[0;31m             \u001b[0;32mreturn\u001b[0m \u001b[0mself\u001b[0m\u001b[0;34m.\u001b[0m\u001b[0menv\u001b[0m\u001b[0;34m.\u001b[0m\u001b[0mstep\u001b[0m\u001b[0;34m(\u001b[0m\u001b[0maction\u001b[0m\u001b[0;34m)\u001b[0m\u001b[0;34m\u001b[0m\u001b[0;34m\u001b[0m\u001b[0m\n\u001b[0m\u001b[1;32m    286\u001b[0m \u001b[0;34m\u001b[0m\u001b[0m\n\u001b[1;32m    287\u001b[0m     def reset(\n",
            "\u001b[0;32m/usr/local/lib/python3.11/dist-packages/gymnasium/envs/box2d/car_racing.py\u001b[0m in \u001b[0;36mstep\u001b[0;34m(self, action)\u001b[0m\n\u001b[1;32m    585\u001b[0m \u001b[0;34m\u001b[0m\u001b[0m\n\u001b[1;32m    586\u001b[0m         \u001b[0;32mif\u001b[0m \u001b[0mself\u001b[0m\u001b[0;34m.\u001b[0m\u001b[0mrender_mode\u001b[0m \u001b[0;34m==\u001b[0m \u001b[0;34m\"human\"\u001b[0m\u001b[0;34m:\u001b[0m\u001b[0;34m\u001b[0m\u001b[0;34m\u001b[0m\u001b[0m\n\u001b[0;32m--> 587\u001b[0;31m             \u001b[0mself\u001b[0m\u001b[0;34m.\u001b[0m\u001b[0mrender\u001b[0m\u001b[0;34m(\u001b[0m\u001b[0;34m)\u001b[0m\u001b[0;34m\u001b[0m\u001b[0;34m\u001b[0m\u001b[0m\n\u001b[0m\u001b[1;32m    588\u001b[0m         \u001b[0;32mreturn\u001b[0m \u001b[0mself\u001b[0m\u001b[0;34m.\u001b[0m\u001b[0mstate\u001b[0m\u001b[0;34m,\u001b[0m \u001b[0mstep_reward\u001b[0m\u001b[0;34m,\u001b[0m \u001b[0mterminated\u001b[0m\u001b[0;34m,\u001b[0m \u001b[0mtruncated\u001b[0m\u001b[0;34m,\u001b[0m \u001b[0minfo\u001b[0m\u001b[0;34m\u001b[0m\u001b[0;34m\u001b[0m\u001b[0m\n\u001b[1;32m    589\u001b[0m \u001b[0;34m\u001b[0m\u001b[0m\n",
            "\u001b[0;32m/usr/local/lib/python3.11/dist-packages/gymnasium/envs/box2d/car_racing.py\u001b[0m in \u001b[0;36mrender\u001b[0;34m(self)\u001b[0m\n\u001b[1;32m    598\u001b[0m             \u001b[0;32mreturn\u001b[0m\u001b[0;34m\u001b[0m\u001b[0;34m\u001b[0m\u001b[0m\n\u001b[1;32m    599\u001b[0m         \u001b[0;32melse\u001b[0m\u001b[0;34m:\u001b[0m\u001b[0;34m\u001b[0m\u001b[0;34m\u001b[0m\u001b[0m\n\u001b[0;32m--> 600\u001b[0;31m             \u001b[0;32mreturn\u001b[0m \u001b[0mself\u001b[0m\u001b[0;34m.\u001b[0m\u001b[0m_render\u001b[0m\u001b[0;34m(\u001b[0m\u001b[0mself\u001b[0m\u001b[0;34m.\u001b[0m\u001b[0mrender_mode\u001b[0m\u001b[0;34m)\u001b[0m\u001b[0;34m\u001b[0m\u001b[0;34m\u001b[0m\u001b[0m\n\u001b[0m\u001b[1;32m    601\u001b[0m \u001b[0;34m\u001b[0m\u001b[0m\n\u001b[1;32m    602\u001b[0m     \u001b[0;32mdef\u001b[0m \u001b[0m_render\u001b[0m\u001b[0;34m(\u001b[0m\u001b[0mself\u001b[0m\u001b[0;34m,\u001b[0m \u001b[0mmode\u001b[0m\u001b[0;34m:\u001b[0m \u001b[0mstr\u001b[0m\u001b[0;34m)\u001b[0m\u001b[0;34m:\u001b[0m\u001b[0;34m\u001b[0m\u001b[0;34m\u001b[0m\u001b[0m\n",
            "\u001b[0;32m/usr/local/lib/python3.11/dist-packages/gymnasium/envs/box2d/car_racing.py\u001b[0m in \u001b[0;36m_render\u001b[0;34m(self, mode)\u001b[0m\n\u001b[1;32m    626\u001b[0m         \u001b[0mtrans\u001b[0m \u001b[0;34m=\u001b[0m \u001b[0;34m(\u001b[0m\u001b[0mWINDOW_W\u001b[0m \u001b[0;34m/\u001b[0m \u001b[0;36m2\u001b[0m \u001b[0;34m+\u001b[0m \u001b[0mtrans\u001b[0m\u001b[0;34m[\u001b[0m\u001b[0;36m0\u001b[0m\u001b[0;34m]\u001b[0m\u001b[0;34m,\u001b[0m \u001b[0mWINDOW_H\u001b[0m \u001b[0;34m/\u001b[0m \u001b[0;36m4\u001b[0m \u001b[0;34m+\u001b[0m \u001b[0mtrans\u001b[0m\u001b[0;34m[\u001b[0m\u001b[0;36m1\u001b[0m\u001b[0;34m]\u001b[0m\u001b[0;34m)\u001b[0m\u001b[0;34m\u001b[0m\u001b[0;34m\u001b[0m\u001b[0m\n\u001b[1;32m    627\u001b[0m \u001b[0;34m\u001b[0m\u001b[0m\n\u001b[0;32m--> 628\u001b[0;31m         \u001b[0mself\u001b[0m\u001b[0;34m.\u001b[0m\u001b[0m_render_road\u001b[0m\u001b[0;34m(\u001b[0m\u001b[0mzoom\u001b[0m\u001b[0;34m,\u001b[0m \u001b[0mtrans\u001b[0m\u001b[0;34m,\u001b[0m \u001b[0mangle\u001b[0m\u001b[0;34m)\u001b[0m\u001b[0;34m\u001b[0m\u001b[0;34m\u001b[0m\u001b[0m\n\u001b[0m\u001b[1;32m    629\u001b[0m         self.car.draw(\n\u001b[1;32m    630\u001b[0m             \u001b[0mself\u001b[0m\u001b[0;34m.\u001b[0m\u001b[0msurf\u001b[0m\u001b[0;34m,\u001b[0m\u001b[0;34m\u001b[0m\u001b[0;34m\u001b[0m\u001b[0m\n",
            "\u001b[0;32m/usr/local/lib/python3.11/dist-packages/gymnasium/envs/box2d/car_racing.py\u001b[0m in \u001b[0;36m_render_road\u001b[0;34m(self, zoom, translation, angle)\u001b[0m\n\u001b[1;32m    670\u001b[0m \u001b[0;34m\u001b[0m\u001b[0m\n\u001b[1;32m    671\u001b[0m         \u001b[0;31m# draw background\u001b[0m\u001b[0;34m\u001b[0m\u001b[0;34m\u001b[0m\u001b[0m\n\u001b[0;32m--> 672\u001b[0;31m         self._draw_colored_polygon(\n\u001b[0m\u001b[1;32m    673\u001b[0m             \u001b[0mself\u001b[0m\u001b[0;34m.\u001b[0m\u001b[0msurf\u001b[0m\u001b[0;34m,\u001b[0m \u001b[0mfield\u001b[0m\u001b[0;34m,\u001b[0m \u001b[0mself\u001b[0m\u001b[0;34m.\u001b[0m\u001b[0mbg_color\u001b[0m\u001b[0;34m,\u001b[0m \u001b[0mzoom\u001b[0m\u001b[0;34m,\u001b[0m \u001b[0mtranslation\u001b[0m\u001b[0;34m,\u001b[0m \u001b[0mangle\u001b[0m\u001b[0;34m,\u001b[0m \u001b[0mclip\u001b[0m\u001b[0;34m=\u001b[0m\u001b[0;32mFalse\u001b[0m\u001b[0;34m\u001b[0m\u001b[0;34m\u001b[0m\u001b[0m\n\u001b[1;32m    674\u001b[0m         )\n",
            "\u001b[0;32m/usr/local/lib/python3.11/dist-packages/gymnasium/envs/box2d/car_racing.py\u001b[0m in \u001b[0;36m_draw_colored_polygon\u001b[0;34m(self, surface, poly, color, zoom, translation, angle, clip)\u001b[0m\n\u001b[1;32m    784\u001b[0m         ):\n\u001b[1;32m    785\u001b[0m             \u001b[0mgfxdraw\u001b[0m\u001b[0;34m.\u001b[0m\u001b[0maapolygon\u001b[0m\u001b[0;34m(\u001b[0m\u001b[0mself\u001b[0m\u001b[0;34m.\u001b[0m\u001b[0msurf\u001b[0m\u001b[0;34m,\u001b[0m \u001b[0mpoly\u001b[0m\u001b[0;34m,\u001b[0m \u001b[0mcolor\u001b[0m\u001b[0;34m)\u001b[0m\u001b[0;34m\u001b[0m\u001b[0;34m\u001b[0m\u001b[0m\n\u001b[0;32m--> 786\u001b[0;31m             \u001b[0mgfxdraw\u001b[0m\u001b[0;34m.\u001b[0m\u001b[0mfilled_polygon\u001b[0m\u001b[0;34m(\u001b[0m\u001b[0mself\u001b[0m\u001b[0;34m.\u001b[0m\u001b[0msurf\u001b[0m\u001b[0;34m,\u001b[0m \u001b[0mpoly\u001b[0m\u001b[0;34m,\u001b[0m \u001b[0mcolor\u001b[0m\u001b[0;34m)\u001b[0m\u001b[0;34m\u001b[0m\u001b[0;34m\u001b[0m\u001b[0m\n\u001b[0m\u001b[1;32m    787\u001b[0m \u001b[0;34m\u001b[0m\u001b[0m\n\u001b[1;32m    788\u001b[0m     \u001b[0;32mdef\u001b[0m \u001b[0m_create_image_array\u001b[0m\u001b[0;34m(\u001b[0m\u001b[0mself\u001b[0m\u001b[0;34m,\u001b[0m \u001b[0mscreen\u001b[0m\u001b[0;34m,\u001b[0m \u001b[0msize\u001b[0m\u001b[0;34m)\u001b[0m\u001b[0;34m:\u001b[0m\u001b[0;34m\u001b[0m\u001b[0;34m\u001b[0m\u001b[0m\n",
            "\u001b[0;31mKeyboardInterrupt\u001b[0m: "
          ]
        }
      ]
    },
    {
      "cell_type": "code",
      "source": [
        "env = gym.make(\"CarRacing-v3\", continuous=True, render_mode=\"rgb_array\")\n",
        "frames = []\n",
        "obs, _ = env.reset()\n",
        "done = False\n",
        "\n",
        "while not done:\n",
        "    obs_proc = preprocess_frame(obs)\n",
        "    obs_tensor = torch.tensor(obs_proc, dtype=torch.float32).unsqueeze(0).unsqueeze(0).to(device)\n",
        "    with torch.no_grad():\n",
        "        state_latent, _ = vae.encode(obs_tensor)\n",
        "        state_latent = state_latent.squeeze(0)\n",
        "    with torch.no_grad():\n",
        "        q_values = q_net(state_latent.unsqueeze(0))\n",
        "    action_idx = q_values.argmax().item()\n",
        "    action = DISCRETE_ACTIONS[action_idx]\n",
        "\n",
        "    obs, reward, done, truncated, _ = env.step(action)\n",
        "    frames.append(obs)\n",
        "env.close()"
      ],
      "metadata": {
        "colab": {
          "base_uri": "https://localhost:8080/",
          "height": 356
        },
        "id": "KtEU64I0Exar",
        "outputId": "d6e551e1-d9bb-48c4-d228-e582edd94e09"
      },
      "execution_count": null,
      "outputs": [
        {
          "output_type": "error",
          "ename": "KeyboardInterrupt",
          "evalue": "",
          "traceback": [
            "\u001b[0;31m---------------------------------------------------------------------------\u001b[0m",
            "\u001b[0;31mKeyboardInterrupt\u001b[0m                         Traceback (most recent call last)",
            "\u001b[0;32m<ipython-input-17-29c84fb20779>\u001b[0m in \u001b[0;36m<cell line: 0>\u001b[0;34m()\u001b[0m\n\u001b[1;32m     16\u001b[0m     \u001b[0maction\u001b[0m \u001b[0;34m=\u001b[0m \u001b[0mDISCRETE_ACTIONS\u001b[0m\u001b[0;34m[\u001b[0m\u001b[0maction_idx\u001b[0m\u001b[0;34m]\u001b[0m\u001b[0;34m\u001b[0m\u001b[0;34m\u001b[0m\u001b[0m\n\u001b[1;32m     17\u001b[0m \u001b[0;34m\u001b[0m\u001b[0m\n\u001b[0;32m---> 18\u001b[0;31m     \u001b[0mobs\u001b[0m\u001b[0;34m,\u001b[0m \u001b[0mreward\u001b[0m\u001b[0;34m,\u001b[0m \u001b[0mdone\u001b[0m\u001b[0;34m,\u001b[0m \u001b[0mtruncated\u001b[0m\u001b[0;34m,\u001b[0m \u001b[0m_\u001b[0m \u001b[0;34m=\u001b[0m \u001b[0menv\u001b[0m\u001b[0;34m.\u001b[0m\u001b[0mstep\u001b[0m\u001b[0;34m(\u001b[0m\u001b[0maction\u001b[0m\u001b[0;34m)\u001b[0m\u001b[0;34m\u001b[0m\u001b[0;34m\u001b[0m\u001b[0m\n\u001b[0m\u001b[1;32m     19\u001b[0m     \u001b[0mframes\u001b[0m\u001b[0;34m.\u001b[0m\u001b[0mappend\u001b[0m\u001b[0;34m(\u001b[0m\u001b[0mobs\u001b[0m\u001b[0;34m)\u001b[0m\u001b[0;34m\u001b[0m\u001b[0;34m\u001b[0m\u001b[0m\n\u001b[1;32m     20\u001b[0m \u001b[0menv\u001b[0m\u001b[0;34m.\u001b[0m\u001b[0mclose\u001b[0m\u001b[0;34m(\u001b[0m\u001b[0;34m)\u001b[0m\u001b[0;34m\u001b[0m\u001b[0;34m\u001b[0m\u001b[0m\n",
            "\u001b[0;32m/usr/local/lib/python3.11/dist-packages/gymnasium/wrappers/common.py\u001b[0m in \u001b[0;36mstep\u001b[0;34m(self, action)\u001b[0m\n\u001b[1;32m    123\u001b[0m \u001b[0;34m\u001b[0m\u001b[0m\n\u001b[1;32m    124\u001b[0m         \"\"\"\n\u001b[0;32m--> 125\u001b[0;31m         \u001b[0mobservation\u001b[0m\u001b[0;34m,\u001b[0m \u001b[0mreward\u001b[0m\u001b[0;34m,\u001b[0m \u001b[0mterminated\u001b[0m\u001b[0;34m,\u001b[0m \u001b[0mtruncated\u001b[0m\u001b[0;34m,\u001b[0m \u001b[0minfo\u001b[0m \u001b[0;34m=\u001b[0m \u001b[0mself\u001b[0m\u001b[0;34m.\u001b[0m\u001b[0menv\u001b[0m\u001b[0;34m.\u001b[0m\u001b[0mstep\u001b[0m\u001b[0;34m(\u001b[0m\u001b[0maction\u001b[0m\u001b[0;34m)\u001b[0m\u001b[0;34m\u001b[0m\u001b[0;34m\u001b[0m\u001b[0m\n\u001b[0m\u001b[1;32m    126\u001b[0m         \u001b[0mself\u001b[0m\u001b[0;34m.\u001b[0m\u001b[0m_elapsed_steps\u001b[0m \u001b[0;34m+=\u001b[0m \u001b[0;36m1\u001b[0m\u001b[0;34m\u001b[0m\u001b[0;34m\u001b[0m\u001b[0m\n\u001b[1;32m    127\u001b[0m \u001b[0;34m\u001b[0m\u001b[0m\n",
            "\u001b[0;32m/usr/local/lib/python3.11/dist-packages/gymnasium/wrappers/common.py\u001b[0m in \u001b[0;36mstep\u001b[0;34m(self, action)\u001b[0m\n\u001b[1;32m    391\u001b[0m         \u001b[0;32mif\u001b[0m \u001b[0;32mnot\u001b[0m \u001b[0mself\u001b[0m\u001b[0;34m.\u001b[0m\u001b[0m_has_reset\u001b[0m\u001b[0;34m:\u001b[0m\u001b[0;34m\u001b[0m\u001b[0;34m\u001b[0m\u001b[0m\n\u001b[1;32m    392\u001b[0m             \u001b[0;32mraise\u001b[0m \u001b[0mResetNeeded\u001b[0m\u001b[0;34m(\u001b[0m\u001b[0;34m\"Cannot call env.step() before calling env.reset()\"\u001b[0m\u001b[0;34m)\u001b[0m\u001b[0;34m\u001b[0m\u001b[0;34m\u001b[0m\u001b[0m\n\u001b[0;32m--> 393\u001b[0;31m         \u001b[0;32mreturn\u001b[0m \u001b[0msuper\u001b[0m\u001b[0;34m(\u001b[0m\u001b[0;34m)\u001b[0m\u001b[0;34m.\u001b[0m\u001b[0mstep\u001b[0m\u001b[0;34m(\u001b[0m\u001b[0maction\u001b[0m\u001b[0;34m)\u001b[0m\u001b[0;34m\u001b[0m\u001b[0;34m\u001b[0m\u001b[0m\n\u001b[0m\u001b[1;32m    394\u001b[0m \u001b[0;34m\u001b[0m\u001b[0m\n\u001b[1;32m    395\u001b[0m     def reset(\n",
            "\u001b[0;32m/usr/local/lib/python3.11/dist-packages/gymnasium/core.py\u001b[0m in \u001b[0;36mstep\u001b[0;34m(self, action)\u001b[0m\n\u001b[1;32m    320\u001b[0m     ) -> tuple[WrapperObsType, SupportsFloat, bool, bool, dict[str, Any]]:\n\u001b[1;32m    321\u001b[0m         \u001b[0;34m\"\"\"Uses the :meth:`step` of the :attr:`env` that can be overwritten to change the returned data.\"\"\"\u001b[0m\u001b[0;34m\u001b[0m\u001b[0;34m\u001b[0m\u001b[0m\n\u001b[0;32m--> 322\u001b[0;31m         \u001b[0;32mreturn\u001b[0m \u001b[0mself\u001b[0m\u001b[0;34m.\u001b[0m\u001b[0menv\u001b[0m\u001b[0;34m.\u001b[0m\u001b[0mstep\u001b[0m\u001b[0;34m(\u001b[0m\u001b[0maction\u001b[0m\u001b[0;34m)\u001b[0m\u001b[0;34m\u001b[0m\u001b[0;34m\u001b[0m\u001b[0m\n\u001b[0m\u001b[1;32m    323\u001b[0m \u001b[0;34m\u001b[0m\u001b[0m\n\u001b[1;32m    324\u001b[0m     def reset(\n",
            "\u001b[0;32m/usr/local/lib/python3.11/dist-packages/gymnasium/wrappers/common.py\u001b[0m in \u001b[0;36mstep\u001b[0;34m(self, action)\u001b[0m\n\u001b[1;32m    283\u001b[0m             \u001b[0;32mreturn\u001b[0m \u001b[0menv_step_passive_checker\u001b[0m\u001b[0;34m(\u001b[0m\u001b[0mself\u001b[0m\u001b[0;34m.\u001b[0m\u001b[0menv\u001b[0m\u001b[0;34m,\u001b[0m \u001b[0maction\u001b[0m\u001b[0;34m)\u001b[0m\u001b[0;34m\u001b[0m\u001b[0;34m\u001b[0m\u001b[0m\n\u001b[1;32m    284\u001b[0m         \u001b[0;32melse\u001b[0m\u001b[0;34m:\u001b[0m\u001b[0;34m\u001b[0m\u001b[0;34m\u001b[0m\u001b[0m\n\u001b[0;32m--> 285\u001b[0;31m             \u001b[0;32mreturn\u001b[0m \u001b[0mself\u001b[0m\u001b[0;34m.\u001b[0m\u001b[0menv\u001b[0m\u001b[0;34m.\u001b[0m\u001b[0mstep\u001b[0m\u001b[0;34m(\u001b[0m\u001b[0maction\u001b[0m\u001b[0;34m)\u001b[0m\u001b[0;34m\u001b[0m\u001b[0;34m\u001b[0m\u001b[0m\n\u001b[0m\u001b[1;32m    286\u001b[0m \u001b[0;34m\u001b[0m\u001b[0m\n\u001b[1;32m    287\u001b[0m     def reset(\n",
            "\u001b[0;32m/usr/local/lib/python3.11/dist-packages/gymnasium/envs/box2d/car_racing.py\u001b[0m in \u001b[0;36mstep\u001b[0;34m(self, action)\u001b[0m\n\u001b[1;32m    561\u001b[0m         \u001b[0mself\u001b[0m\u001b[0;34m.\u001b[0m\u001b[0mt\u001b[0m \u001b[0;34m+=\u001b[0m \u001b[0;36m1.0\u001b[0m \u001b[0;34m/\u001b[0m \u001b[0mFPS\u001b[0m\u001b[0;34m\u001b[0m\u001b[0;34m\u001b[0m\u001b[0m\n\u001b[1;32m    562\u001b[0m \u001b[0;34m\u001b[0m\u001b[0m\n\u001b[0;32m--> 563\u001b[0;31m         \u001b[0mself\u001b[0m\u001b[0;34m.\u001b[0m\u001b[0mstate\u001b[0m \u001b[0;34m=\u001b[0m \u001b[0mself\u001b[0m\u001b[0;34m.\u001b[0m\u001b[0m_render\u001b[0m\u001b[0;34m(\u001b[0m\u001b[0;34m\"state_pixels\"\u001b[0m\u001b[0;34m)\u001b[0m\u001b[0;34m\u001b[0m\u001b[0;34m\u001b[0m\u001b[0m\n\u001b[0m\u001b[1;32m    564\u001b[0m \u001b[0;34m\u001b[0m\u001b[0m\n\u001b[1;32m    565\u001b[0m         \u001b[0mstep_reward\u001b[0m \u001b[0;34m=\u001b[0m \u001b[0;36m0\u001b[0m\u001b[0;34m\u001b[0m\u001b[0;34m\u001b[0m\u001b[0m\n",
            "\u001b[0;32m/usr/local/lib/python3.11/dist-packages/gymnasium/envs/box2d/car_racing.py\u001b[0m in \u001b[0;36m_render\u001b[0;34m(self, mode)\u001b[0m\n\u001b[1;32m    626\u001b[0m         \u001b[0mtrans\u001b[0m \u001b[0;34m=\u001b[0m \u001b[0;34m(\u001b[0m\u001b[0mWINDOW_W\u001b[0m \u001b[0;34m/\u001b[0m \u001b[0;36m2\u001b[0m \u001b[0;34m+\u001b[0m \u001b[0mtrans\u001b[0m\u001b[0;34m[\u001b[0m\u001b[0;36m0\u001b[0m\u001b[0;34m]\u001b[0m\u001b[0;34m,\u001b[0m \u001b[0mWINDOW_H\u001b[0m \u001b[0;34m/\u001b[0m \u001b[0;36m4\u001b[0m \u001b[0;34m+\u001b[0m \u001b[0mtrans\u001b[0m\u001b[0;34m[\u001b[0m\u001b[0;36m1\u001b[0m\u001b[0;34m]\u001b[0m\u001b[0;34m)\u001b[0m\u001b[0;34m\u001b[0m\u001b[0;34m\u001b[0m\u001b[0m\n\u001b[1;32m    627\u001b[0m \u001b[0;34m\u001b[0m\u001b[0m\n\u001b[0;32m--> 628\u001b[0;31m         \u001b[0mself\u001b[0m\u001b[0;34m.\u001b[0m\u001b[0m_render_road\u001b[0m\u001b[0;34m(\u001b[0m\u001b[0mzoom\u001b[0m\u001b[0;34m,\u001b[0m \u001b[0mtrans\u001b[0m\u001b[0;34m,\u001b[0m \u001b[0mangle\u001b[0m\u001b[0;34m)\u001b[0m\u001b[0;34m\u001b[0m\u001b[0;34m\u001b[0m\u001b[0m\n\u001b[0m\u001b[1;32m    629\u001b[0m         self.car.draw(\n\u001b[1;32m    630\u001b[0m             \u001b[0mself\u001b[0m\u001b[0;34m.\u001b[0m\u001b[0msurf\u001b[0m\u001b[0;34m,\u001b[0m\u001b[0;34m\u001b[0m\u001b[0;34m\u001b[0m\u001b[0m\n",
            "\u001b[0;32m/usr/local/lib/python3.11/dist-packages/gymnasium/envs/box2d/car_racing.py\u001b[0m in \u001b[0;36m_render_road\u001b[0;34m(self, zoom, translation, angle)\u001b[0m\n\u001b[1;32m    696\u001b[0m             \u001b[0mpoly\u001b[0m \u001b[0;34m=\u001b[0m \u001b[0;34m[\u001b[0m\u001b[0;34m(\u001b[0m\u001b[0mp\u001b[0m\u001b[0;34m[\u001b[0m\u001b[0;36m0\u001b[0m\u001b[0;34m]\u001b[0m\u001b[0;34m,\u001b[0m \u001b[0mp\u001b[0m\u001b[0;34m[\u001b[0m\u001b[0;36m1\u001b[0m\u001b[0;34m]\u001b[0m\u001b[0;34m)\u001b[0m \u001b[0;32mfor\u001b[0m \u001b[0mp\u001b[0m \u001b[0;32min\u001b[0m \u001b[0mpoly\u001b[0m\u001b[0;34m]\u001b[0m\u001b[0;34m\u001b[0m\u001b[0;34m\u001b[0m\u001b[0m\n\u001b[1;32m    697\u001b[0m             \u001b[0mcolor\u001b[0m \u001b[0;34m=\u001b[0m \u001b[0;34m[\u001b[0m\u001b[0mint\u001b[0m\u001b[0;34m(\u001b[0m\u001b[0mc\u001b[0m\u001b[0;34m)\u001b[0m \u001b[0;32mfor\u001b[0m \u001b[0mc\u001b[0m \u001b[0;32min\u001b[0m \u001b[0mcolor\u001b[0m\u001b[0;34m]\u001b[0m\u001b[0;34m\u001b[0m\u001b[0;34m\u001b[0m\u001b[0m\n\u001b[0;32m--> 698\u001b[0;31m             \u001b[0mself\u001b[0m\u001b[0;34m.\u001b[0m\u001b[0m_draw_colored_polygon\u001b[0m\u001b[0;34m(\u001b[0m\u001b[0mself\u001b[0m\u001b[0;34m.\u001b[0m\u001b[0msurf\u001b[0m\u001b[0;34m,\u001b[0m \u001b[0mpoly\u001b[0m\u001b[0;34m,\u001b[0m \u001b[0mcolor\u001b[0m\u001b[0;34m,\u001b[0m \u001b[0mzoom\u001b[0m\u001b[0;34m,\u001b[0m \u001b[0mtranslation\u001b[0m\u001b[0;34m,\u001b[0m \u001b[0mangle\u001b[0m\u001b[0;34m)\u001b[0m\u001b[0;34m\u001b[0m\u001b[0;34m\u001b[0m\u001b[0m\n\u001b[0m\u001b[1;32m    699\u001b[0m \u001b[0;34m\u001b[0m\u001b[0m\n\u001b[1;32m    700\u001b[0m     \u001b[0;32mdef\u001b[0m \u001b[0m_render_indicators\u001b[0m\u001b[0;34m(\u001b[0m\u001b[0mself\u001b[0m\u001b[0;34m,\u001b[0m \u001b[0mW\u001b[0m\u001b[0;34m,\u001b[0m \u001b[0mH\u001b[0m\u001b[0;34m)\u001b[0m\u001b[0;34m:\u001b[0m\u001b[0;34m\u001b[0m\u001b[0;34m\u001b[0m\u001b[0m\n",
            "\u001b[0;32m/usr/local/lib/python3.11/dist-packages/gymnasium/envs/box2d/car_racing.py\u001b[0m in \u001b[0;36m_draw_colored_polygon\u001b[0;34m(self, surface, poly, color, zoom, translation, angle, clip)\u001b[0m\n\u001b[1;32m    769\u001b[0m         \u001b[0mself\u001b[0m\u001b[0;34m,\u001b[0m \u001b[0msurface\u001b[0m\u001b[0;34m,\u001b[0m \u001b[0mpoly\u001b[0m\u001b[0;34m,\u001b[0m \u001b[0mcolor\u001b[0m\u001b[0;34m,\u001b[0m \u001b[0mzoom\u001b[0m\u001b[0;34m,\u001b[0m \u001b[0mtranslation\u001b[0m\u001b[0;34m,\u001b[0m \u001b[0mangle\u001b[0m\u001b[0;34m,\u001b[0m \u001b[0mclip\u001b[0m\u001b[0;34m=\u001b[0m\u001b[0;32mTrue\u001b[0m\u001b[0;34m\u001b[0m\u001b[0;34m\u001b[0m\u001b[0m\n\u001b[1;32m    770\u001b[0m     ):\n\u001b[0;32m--> 771\u001b[0;31m         \u001b[0mpoly\u001b[0m \u001b[0;34m=\u001b[0m \u001b[0;34m[\u001b[0m\u001b[0mpygame\u001b[0m\u001b[0;34m.\u001b[0m\u001b[0mmath\u001b[0m\u001b[0;34m.\u001b[0m\u001b[0mVector2\u001b[0m\u001b[0;34m(\u001b[0m\u001b[0mc\u001b[0m\u001b[0;34m)\u001b[0m\u001b[0;34m.\u001b[0m\u001b[0mrotate_rad\u001b[0m\u001b[0;34m(\u001b[0m\u001b[0mangle\u001b[0m\u001b[0;34m)\u001b[0m \u001b[0;32mfor\u001b[0m \u001b[0mc\u001b[0m \u001b[0;32min\u001b[0m \u001b[0mpoly\u001b[0m\u001b[0;34m]\u001b[0m\u001b[0;34m\u001b[0m\u001b[0;34m\u001b[0m\u001b[0m\n\u001b[0m\u001b[1;32m    772\u001b[0m         poly = [\n\u001b[1;32m    773\u001b[0m             \u001b[0;34m(\u001b[0m\u001b[0mc\u001b[0m\u001b[0;34m[\u001b[0m\u001b[0;36m0\u001b[0m\u001b[0;34m]\u001b[0m \u001b[0;34m*\u001b[0m \u001b[0mzoom\u001b[0m \u001b[0;34m+\u001b[0m \u001b[0mtranslation\u001b[0m\u001b[0;34m[\u001b[0m\u001b[0;36m0\u001b[0m\u001b[0;34m]\u001b[0m\u001b[0;34m,\u001b[0m \u001b[0mc\u001b[0m\u001b[0;34m[\u001b[0m\u001b[0;36m1\u001b[0m\u001b[0;34m]\u001b[0m \u001b[0;34m*\u001b[0m \u001b[0mzoom\u001b[0m \u001b[0;34m+\u001b[0m \u001b[0mtranslation\u001b[0m\u001b[0;34m[\u001b[0m\u001b[0;36m1\u001b[0m\u001b[0;34m]\u001b[0m\u001b[0;34m)\u001b[0m \u001b[0;32mfor\u001b[0m \u001b[0mc\u001b[0m \u001b[0;32min\u001b[0m \u001b[0mpoly\u001b[0m\u001b[0;34m\u001b[0m\u001b[0;34m\u001b[0m\u001b[0m\n",
            "\u001b[0;32m/usr/local/lib/python3.11/dist-packages/gymnasium/envs/box2d/car_racing.py\u001b[0m in \u001b[0;36m<listcomp>\u001b[0;34m(.0)\u001b[0m\n\u001b[1;32m    769\u001b[0m         \u001b[0mself\u001b[0m\u001b[0;34m,\u001b[0m \u001b[0msurface\u001b[0m\u001b[0;34m,\u001b[0m \u001b[0mpoly\u001b[0m\u001b[0;34m,\u001b[0m \u001b[0mcolor\u001b[0m\u001b[0;34m,\u001b[0m \u001b[0mzoom\u001b[0m\u001b[0;34m,\u001b[0m \u001b[0mtranslation\u001b[0m\u001b[0;34m,\u001b[0m \u001b[0mangle\u001b[0m\u001b[0;34m,\u001b[0m \u001b[0mclip\u001b[0m\u001b[0;34m=\u001b[0m\u001b[0;32mTrue\u001b[0m\u001b[0;34m\u001b[0m\u001b[0;34m\u001b[0m\u001b[0m\n\u001b[1;32m    770\u001b[0m     ):\n\u001b[0;32m--> 771\u001b[0;31m         \u001b[0mpoly\u001b[0m \u001b[0;34m=\u001b[0m \u001b[0;34m[\u001b[0m\u001b[0mpygame\u001b[0m\u001b[0;34m.\u001b[0m\u001b[0mmath\u001b[0m\u001b[0;34m.\u001b[0m\u001b[0mVector2\u001b[0m\u001b[0;34m(\u001b[0m\u001b[0mc\u001b[0m\u001b[0;34m)\u001b[0m\u001b[0;34m.\u001b[0m\u001b[0mrotate_rad\u001b[0m\u001b[0;34m(\u001b[0m\u001b[0mangle\u001b[0m\u001b[0;34m)\u001b[0m \u001b[0;32mfor\u001b[0m \u001b[0mc\u001b[0m \u001b[0;32min\u001b[0m \u001b[0mpoly\u001b[0m\u001b[0;34m]\u001b[0m\u001b[0;34m\u001b[0m\u001b[0;34m\u001b[0m\u001b[0m\n\u001b[0m\u001b[1;32m    772\u001b[0m         poly = [\n\u001b[1;32m    773\u001b[0m             \u001b[0;34m(\u001b[0m\u001b[0mc\u001b[0m\u001b[0;34m[\u001b[0m\u001b[0;36m0\u001b[0m\u001b[0;34m]\u001b[0m \u001b[0;34m*\u001b[0m \u001b[0mzoom\u001b[0m \u001b[0;34m+\u001b[0m \u001b[0mtranslation\u001b[0m\u001b[0;34m[\u001b[0m\u001b[0;36m0\u001b[0m\u001b[0;34m]\u001b[0m\u001b[0;34m,\u001b[0m \u001b[0mc\u001b[0m\u001b[0;34m[\u001b[0m\u001b[0;36m1\u001b[0m\u001b[0;34m]\u001b[0m \u001b[0;34m*\u001b[0m \u001b[0mzoom\u001b[0m \u001b[0;34m+\u001b[0m \u001b[0mtranslation\u001b[0m\u001b[0;34m[\u001b[0m\u001b[0;36m1\u001b[0m\u001b[0;34m]\u001b[0m\u001b[0;34m)\u001b[0m \u001b[0;32mfor\u001b[0m \u001b[0mc\u001b[0m \u001b[0;32min\u001b[0m \u001b[0mpoly\u001b[0m\u001b[0;34m\u001b[0m\u001b[0;34m\u001b[0m\u001b[0m\n",
            "\u001b[0;31mKeyboardInterrupt\u001b[0m: "
          ]
        }
      ]
    },
    {
      "cell_type": "code",
      "source": [],
      "metadata": {
        "colab": {
          "base_uri": "https://localhost:8080/"
        },
        "id": "sF9fX5SgIDbY",
        "outputId": "91cc17b7-5c21-4b2e-905d-8d055b5a6097"
      },
      "execution_count": null,
      "outputs": [
        {
          "output_type": "stream",
          "name": "stdout",
          "text": [
            "41795\n"
          ]
        }
      ]
    },
    {
      "cell_type": "code",
      "source": [
        "# from IPython.display import HTML, display\n",
        "# import cv2\n",
        "# import base64\n",
        "\n",
        "# def display_video(frames, fps=30):\n",
        "#     # Use only the first 1000 frames\n",
        "#     frames = frames[:1000]\n",
        "#     height, width, _ = frames[0].shape\n",
        "#     out = cv2.VideoWriter('temp_video.mp4', cv2.VideoWriter_fourcc(*'mp4v'), fps, (width, height))\n",
        "#     for frame in frames:\n",
        "#         out.write(cv2.cvtColor(frame, cv2.COLOR_RGB2BGR))\n",
        "#     out.release()\n",
        "#     with open('temp_video.mp4', 'rb') as f:\n",
        "#         mp4 = f.read()\n",
        "#     data_url = \"data:video/mp4;base64,\" + base64.b64encode(mp4).decode()\n",
        "#     return HTML(f'<video width=\"600\" controls autoplay loop src=\"{data_url}\"></video>')\n",
        "\n",
        "# video_html = display_video(frames)\n",
        "# display(video_html)\n"
      ],
      "metadata": {
        "id": "C2-oh8KaGNZe"
      },
      "execution_count": null,
      "outputs": []
    },
    {
      "cell_type": "code",
      "source": [
        "# from IPython.display import Video, display\n",
        "# import cv2\n",
        "\n",
        "# def create_and_display_video(frames, fps=30, max_frames=1000, filename=\"temp_video.mp4\"):\n",
        "#     # Use only the first max_frames frames\n",
        "#     frames = frames[:max_frames]\n",
        "#     height, width, _ = frames[0].shape\n",
        "#     fourcc = cv2.VideoWriter_fourcc(*'mp4v')\n",
        "#     video_writer = cv2.VideoWriter(filename, fourcc, fps, (width, height))\n",
        "\n",
        "#     for frame in frames:\n",
        "#         # Convert from RGB to BGR (OpenCV expects BGR)\n",
        "#         video_writer.write(cv2.cvtColor(frame, cv2.COLOR_RGB2BGR))\n",
        "#     video_writer.release()\n",
        "\n",
        "#     display(Video(filename, embed=True, width=600, height=400))\n",
        "\n",
        "# # Call the function with your frames list\n",
        "# create_and_display_video(frames)\n"
      ],
      "metadata": {
        "id": "XHT2xn9_H-Rc"
      },
      "execution_count": null,
      "outputs": []
    },
    {
      "cell_type": "code",
      "source": [
        "frames = frames[:1000]"
      ],
      "metadata": {
        "id": "NuktK045JeC9"
      },
      "execution_count": null,
      "outputs": []
    },
    {
      "cell_type": "code",
      "source": [
        "print(len(frames))"
      ],
      "metadata": {
        "colab": {
          "base_uri": "https://localhost:8080/"
        },
        "id": "3B8w3YkjJ_il",
        "outputId": "e507e1a2-c45c-4437-a509-cbc75822714b"
      },
      "execution_count": null,
      "outputs": [
        {
          "output_type": "stream",
          "name": "stdout",
          "text": [
            "1000\n"
          ]
        }
      ]
    },
    {
      "cell_type": "code",
      "source": [
        "import matplotlib.pyplot as plt\n",
        "\n",
        "plt.imshow(frames[100])\n",
        "plt.axis('off')\n",
        "plt.show()"
      ],
      "metadata": {
        "colab": {
          "base_uri": "https://localhost:8080/",
          "height": 406
        },
        "id": "72iQKOrJKD9n",
        "outputId": "392b0a18-095d-4fbf-eca5-0060045367f1"
      },
      "execution_count": null,
      "outputs": [
        {
          "output_type": "display_data",
          "data": {
            "text/plain": [
              "<Figure size 640x480 with 1 Axes>"
            ],
            "image/png": "[encoded data removed]"
          },
          "metadata": {}
        }
      ]
    },
    {
      "cell_type": "code",
      "source": [
        "from IPython.display import clear_output, display\n",
        "import PIL.Image\n",
        "import time\n",
        "\n",
        "def display_frames_as_animation(frames, fps=30):\n",
        "    interval = 1/fps\n",
        "\n",
        "    for frame in frames:\n",
        "        clear_output(wait=True)\n",
        "        img = PIL.Image.fromarray(frame)\n",
        "        display(img)\n",
        "        time.sleep(interval)\n",
        "\n",
        "display_frames_as_animation(frames, fps=30)"
      ],
      "metadata": {
        "colab": {
          "base_uri": "https://localhost:8080/",
          "height": 393
        },
        "id": "K3_Itdd0KFk0",
        "outputId": "9653920f-2728-4e67-b85a-9d7a7100cc65"
      },
      "execution_count": null,
      "outputs": [
        {
          "output_type": "display_data",
          "data": {
            "text/plain": [
              "<PIL.Image.Image image mode=RGB size=96x96>"
            ],
            "image/png": "[encoded data removed]",
            "image/jpeg": "[encoded data removed]"
          },
          "metadata": {}
        },
        {
          "output_type": "error",
          "ename": "KeyboardInterrupt",
          "evalue": "",
          "traceback": [
            "\u001b[0;31m---------------------------------------------------------------------------\u001b[0m",
            "\u001b[0;31mKeyboardInterrupt\u001b[0m                         Traceback (most recent call last)",
            "\u001b[0;32m<ipython-input-40-8e821b31bcd5>\u001b[0m in \u001b[0;36m<cell line: 0>\u001b[0;34m()\u001b[0m\n\u001b[1;32m     14\u001b[0m \u001b[0;34m\u001b[0m\u001b[0m\n\u001b[1;32m     15\u001b[0m \u001b[0;31m# Play the animation\u001b[0m\u001b[0;34m\u001b[0m\u001b[0;34m\u001b[0m\u001b[0m\n\u001b[0;32m---> 16\u001b[0;31m \u001b[0mdisplay_frames_as_animation\u001b[0m\u001b[0;34m(\u001b[0m\u001b[0mframes\u001b[0m\u001b[0;34m,\u001b[0m \u001b[0mfps\u001b[0m\u001b[0;34m=\u001b[0m\u001b[0;36m30\u001b[0m\u001b[0;34m)\u001b[0m\u001b[0;34m\u001b[0m\u001b[0;34m\u001b[0m\u001b[0m\n\u001b[0m",
            "\u001b[0;32m<ipython-input-40-8e821b31bcd5>\u001b[0m in \u001b[0;36mdisplay_frames_as_animation\u001b[0;34m(frames, fps)\u001b[0m\n\u001b[1;32m     11\u001b[0m         \u001b[0mimg\u001b[0m \u001b[0;34m=\u001b[0m \u001b[0mPIL\u001b[0m\u001b[0;34m.\u001b[0m\u001b[0mImage\u001b[0m\u001b[0;34m.\u001b[0m\u001b[0mfromarray\u001b[0m\u001b[0;34m(\u001b[0m\u001b[0mframe\u001b[0m\u001b[0;34m)\u001b[0m\u001b[0;34m\u001b[0m\u001b[0;34m\u001b[0m\u001b[0m\n\u001b[1;32m     12\u001b[0m         \u001b[0mdisplay\u001b[0m\u001b[0;34m(\u001b[0m\u001b[0mimg\u001b[0m\u001b[0;34m)\u001b[0m\u001b[0;34m\u001b[0m\u001b[0;34m\u001b[0m\u001b[0m\n\u001b[0;32m---> 13\u001b[0;31m         \u001b[0mtime\u001b[0m\u001b[0;34m.\u001b[0m\u001b[0msleep\u001b[0m\u001b[0;34m(\u001b[0m\u001b[0minterval\u001b[0m\u001b[0;34m)\u001b[0m\u001b[0;34m\u001b[0m\u001b[0;34m\u001b[0m\u001b[0m\n\u001b[0m\u001b[1;32m     14\u001b[0m \u001b[0;34m\u001b[0m\u001b[0m\n\u001b[1;32m     15\u001b[0m \u001b[0;31m# Play the animation\u001b[0m\u001b[0;34m\u001b[0m\u001b[0;34m\u001b[0m\u001b[0m\n",
            "\u001b[0;31mKeyboardInterrupt\u001b[0m: "
          ]
        }
      ]
    },
    {
      "cell_type": "code",
      "source": [
        "##############vs code ma nai herxu result, fuck"
      ],
      "metadata": {
        "id": "jGfej5vvLNrM"
      },
      "execution_count": null,
      "outputs": []
    }
  ]
}